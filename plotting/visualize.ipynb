{
 "cells": [
  {
   "cell_type": "code",
   "execution_count": 1,
   "metadata": {},
   "outputs": [],
   "source": [
    "from coffea.nanoevents import NanoEventsFactory, NanoAODSchema, PFNanoAODSchema\n",
    "from coffea.nanoevents.methods import vector, candidate\n",
    "import awkward as ak\n",
    "import numpy as np\n",
    "import uproot\n",
    "import matplotlib.pyplot as plt\n",
    "import matplotlib as mpl\n",
    "from cycler import cycler\n",
    "mpl.rcParams['axes.prop_cycle'] = cycler(color=['blue', 'red', 'green', 'violet', 'darkorange', 'black', 'cyan', 'yellow'])\n",
    "import mplhep as hep\n",
    "plt.style.use(hep.style.CMS) # use CMS style for plotting"
   ]
  },
  {
   "cell_type": "code",
   "execution_count": 62,
   "metadata": {},
   "outputs": [],
   "source": [
    "sam, fname = 'qcd', '/home/olympus/licq/data/calib/custom_nano/samples/20220415_fullGenPart/2017/mc/QCD_HT1000to1500_TuneCP5_PSWeights_13TeV-madgraph-pythia8/CustomNano_fullGenPart_RunIISummer20UL17MiniAODv2-106X_v9-v1/220415_194914/0000/out_NANO_2017_1.root'\n",
    "sam, fname = 'hbb', '/home/olympus/licq/data/calib/custom_nano/samples/20220415_fullGenPart/2017/mc/ZH_HToBB_ZToNuNu_M-125_TuneCP5_13TeV-powheg-pythia8/CustomNano_fullGenPart_RunIISummer20UL17MiniAODv2-106X_v9-v1/220415_194343/0000//out_NANO_2017_1.root'\n",
    "# sam, fname = 'hcc', '/home/olympus/licq/data/calib/custom_nano/samples/20220415_fullGenPart/2017/mc/ZH_HToCC_ZToNuNu_M-125_TuneCP5_13TeV-powheg-pythia8/CustomNano_fullGenPart_RunIISummer20UL17MiniAODv2-106X_v9-v1/220415_194401/0000/out_NANO_2017_1.root'\n",
    "events = NanoEventsFactory.from_root(fname, schemaclass=NanoAODSchema).events()\n",
    "\n",
    "mode = 'bb'"
   ]
  },
  {
   "cell_type": "code",
   "execution_count": 63,
   "metadata": {},
   "outputs": [],
   "source": [
    "# fatjet match with two SV\n",
    "fj_sv_comb = ak.cartesian([events.FatJet, events.SV], nested=True)\n",
    "fj_sv_dr = fj_sv_comb['0'].delta_r(fj_sv_comb['1'])\n",
    "fj_pass_nsv = ak.sum(fj_sv_dr < 0.8, axis=-1) >= 2\n",
    "\n",
    "# each one of two subjets of a fatjet match with one SV\n",
    "sj1 = events.SubJet[events.FatJet.subJetIdx1.mask[events.FatJet.subJetIdx1 >= 0]] # some fatjet has no subjet..\n",
    "sj2 = events.SubJet[events.FatJet.subJetIdx2.mask[events.FatJet.subJetIdx2 >= 0]] # some fatjet has no subjet..\n",
    "sj12_dr = sj1.delta_r(sj2)\n",
    "\n",
    "sj1_sv_comb = ak.cartesian([sj1, events.SV], nested=True)\n",
    "sj1_sv_dr = sj1_sv_comb['0'].delta_r(sj1_sv_comb['1'])\n",
    "sj1_pass_nsv = ak.any(sj1_sv_dr < np.minimum(0.4, sj12_dr), axis=-1)\n",
    "sj2_sv_comb = ak.cartesian([sj2, events.SV], nested=True)\n",
    "sj2_sv_dr = sj2_sv_comb['0'].delta_r(sj2_sv_comb['1'])\n",
    "sj2_pass_nsv = ak.any(sj2_sv_dr < np.minimum(0.4, sj12_dr), axis=-1)\n",
    "# recover None entries (with no subjet)\n",
    "sj1_pass_nsv = ak.fill_none(sj1_pass_nsv, False)\n",
    "sj2_pass_nsv = ak.fill_none(sj2_pass_nsv, False)\n",
    "\n",
    "if mode == 'bb':\n",
    "    fj_pass_nhad = events.FatJet.nBHadrons >= 2\n",
    "elif mode == 'cc':\n",
    "    fj_pass_nhad = (events.FatJet.nBHadrons == 0) & (events.FatJet.nCHadrons >= 2)\n",
    "\n",
    "fj_pass = fj_pass_nsv & fj_pass_nhad & sj1_pass_nsv & sj2_pass_nsv\n",
    "\n",
    "# selection\n",
    "evt = events[ak.sum(fj_pass, axis=-1) >= 1]\n",
    "evt_fj_pass = fj_pass[ak.sum(fj_pass, axis=-1) >= 1]"
   ]
  },
  {
   "cell_type": "code",
   "execution_count": 64,
   "metadata": {},
   "outputs": [
    {
     "name": "stdout",
     "output_type": "stream",
     "text": [
      "bb hbb\n"
     ]
    },
    {
     "name": "stderr",
     "output_type": "stream",
     "text": [
      "100%|██████████| 30/30 [00:10<00:00,  2.91it/s]\n"
     ]
    }
   ],
   "source": [
    "def make_subplot(ax, tree, tree_fj_pass):\n",
    "    # default plotting configuration\n",
    "    f = lambda x: np.sqrt(x)/100\n",
    "    alpha = 0.2\n",
    "\n",
    "    def color_opt(color, fill=True):\n",
    "        if fill:\n",
    "            return {'facecolor': color}\n",
    "        else:\n",
    "            return {'edgecolor': color, 'linewidth': 2, 'fill': False, 'hatch': '///'}\n",
    "    # jet\n",
    "    fj = tree.FatJet\n",
    "    for pt, eta, phi, ispass, t_bb, t_cc, t_qcd in zip(fj.pt, fj.eta, fj.phi, tree_fj_pass, fj.particleNetMD_Xbb, fj.particleNetMD_Xcc, fj.particleNetMD_QCD):\n",
    "        edgecolor = 'red' if ispass else 'grey'\n",
    "        # ax.add_patch(plt.Circle((eta, phi), radius=f(pt), clip_on=True, alpha=alpha, **color_opt('grey', fill=True)))\n",
    "        ax.add_patch(plt.Circle((eta, phi), radius=0.8, clip_on=True, fill=False, edgecolor=edgecolor, linestyle=':'))\n",
    "        ax.text(eta-0.6, phi+1.0, f'{t_bb:.3f}', fontsize=12, ha='center', va='center', color='purple')\n",
    "        ax.text(eta, phi+1.0, f'{t_cc:.3f}', fontsize=12, ha='center', va='center', color='deepskyblue')\n",
    "        ax.text(eta+0.6, phi+1.0, f'{t_qcd:.3f}', fontsize=12, ha='center', va='center', color='grey')\n",
    "        ax.text(eta-0.3, phi+0.75, f'{(t_bb/(t_bb + t_qcd)):.3f}', fontsize=12, ha='center', va='center', color='purple')\n",
    "        ax.text(eta+0.3, phi+0.75, f'{(t_cc/(t_cc + t_qcd)):.3f}', fontsize=12, ha='center', va='center', color='deepskyblue')\n",
    "    # subjets\n",
    "    sj = tree.SubJet\n",
    "    for pt, eta, phi in zip(sj.pt, sj.eta, sj.phi):\n",
    "        ax.add_patch(plt.Circle((eta, phi), radius=f(pt), clip_on=True, alpha=alpha, **color_opt('grey', fill=False)))\n",
    "     # SV\n",
    "    sv = tree.SV\n",
    "    for pt, eta, phi in zip(sv.pt, sv.eta, sv.phi):\n",
    "        ax.add_patch(mpl.patches.RegularPolygon((eta, phi), 4, radius=f(pt)*10, clip_on=True, alpha=alpha, **color_opt('orange', fill=True)))\n",
    "    # partons/hadrons\n",
    "    genp = tree.GenPart\n",
    "    for pt, eta, phi, pid in zip(genp.pt, genp.eta, genp.phi, genp.pdgId):\n",
    "        pid = abs(pid)\n",
    "        if (pid >= 400 and pid < 500) or (pid >= 4000 and pid < 5000):\n",
    "            color = 'deepskyblue'\n",
    "        elif (pid >= 500 and pid < 600) or (pid >= 5000 and pid < 6000):\n",
    "            color = 'purple'\n",
    "        else:\n",
    "            continue\n",
    "        ax.add_patch(plt.Circle((eta, phi), radius=f(pt), clip_on=True, alpha=alpha, **color_opt(color, fill=True)))\n",
    "\n",
    "    ax.set_xlim(-4, 4); ax.set_ylim(-4, 4)\n",
    "    ax.set_xlabel(r'$\\eta$'); ax.set_ylabel(r'$\\phi$')\n",
    "    ax.set_aspect('equal')\n",
    "\n",
    "from tqdm import trange\n",
    "print(mode, sam)\n",
    "for i in trange(30):\n",
    "    fig, ax = plt.subplots(figsize=(10, 10))\n",
    "    make_subplot(ax, evt[i], evt_fj_pass[i])\n",
    "    plt.savefig(f\"../plots/event_vis/{mode}/{sam}_{i:03d}.png\")\n",
    "    plt.close()"
   ]
  },
  {
   "cell_type": "code",
   "execution_count": null,
   "metadata": {},
   "outputs": [],
   "source": []
  }
 ],
 "metadata": {
  "kernelspec": {
   "display_name": "Python 3.9.7 ('weaver': conda)",
   "language": "python",
   "name": "python3"
  },
  "language_info": {
   "codemirror_mode": {
    "name": "ipython",
    "version": 3
   },
   "file_extension": ".py",
   "mimetype": "text/x-python",
   "name": "python",
   "nbconvert_exporter": "python",
   "pygments_lexer": "ipython3",
   "version": "3.9.7"
  },
  "orig_nbformat": 4,
  "vscode": {
   "interpreter": {
    "hash": "9e003ead697514986748c5216fd926cafb32241b93be84241046d90defd7708b"
   }
  }
 },
 "nbformat": 4,
 "nbformat_minor": 2
}
