{
 "cells": [
  {
   "cell_type": "code",
   "execution_count": 1,
   "id": "prostate-statement",
   "metadata": {},
   "outputs": [
    {
     "name": "stdout",
     "output_type": "stream",
     "text": [
      "Welcome to JupyROOT 6.22/08\n"
     ]
    }
   ],
   "source": [
    "import matplotlib\n",
    "import uproot, uproot3\n",
    "import numpy\n",
    "import awkward\n",
    "import numba\n",
    "import numpy as np\n",
    "import matplotlib.pyplot as plt\n",
    "import mplhep as hep\n",
    "import pandas as pd\n",
    "from tqdm import tqdm,trange\n",
    "import ROOT\n",
    "import os,sys\n",
    "from array import array\n",
    "from copy import deepcopy"
   ]
  },
  {
   "cell_type": "markdown",
   "id": "broad-slide",
   "metadata": {},
   "source": [
    "## Lumi"
   ]
  },
  {
   "cell_type": "code",
   "execution_count": 2,
   "id": "wooden-patent",
   "metadata": {},
   "outputs": [],
   "source": [
    "# CMS_lumi\n",
    "#   Initiated by: Gautier Hamel de Monchenault (Saclay)\n",
    "#   Translated in Python by: Joshua Hardenbrook (Princeton)\n",
    "#   Updated by:   Dinko Ferencek (Rutgers)\n",
    "#\n",
    "\n",
    "cmsText     = \"CMS\";\n",
    "cmsTextFont   = 62  \n",
    "\n",
    "writeExtraText = True\n",
    "extraText   = \"Preliminary\"\n",
    "extraTextFont = 52 \n",
    "\n",
    "lumiTextSize     = 0.30\n",
    "lumiTextOffset   = 0.2\n",
    "\n",
    "cmsTextSize      = 0.45\n",
    "cmsTextOffset    = 0.1\n",
    "\n",
    "relPosX    = 0.045\n",
    "relPosY    = 0.035\n",
    "relExtraDY = 1.2\n",
    "\n",
    "extraOverCmsTextSize  = 0.76\n",
    "\n",
    "lumi_13TeV = \"20.1 fb^{-1}\"\n",
    "lumi_8TeV  = \"19.7 fb^{-1}\" \n",
    "lumi_7TeV  = \"5.1 fb^{-1}\"\n",
    "lumi_sqrtS = \"(13 TeV)\"\n",
    "\n",
    "drawLogo      = False\n",
    "\n",
    "def CMS_lumi(pad,  iPeriod,  iPosX ):\n",
    "    outOfFrame    = False\n",
    "    if(iPosX/10==0 ): outOfFrame = True\n",
    "\n",
    "    alignY_=3\n",
    "    alignX_=2\n",
    "    if( iPosX/10==0 ): alignX_=1\n",
    "    if( iPosX==0    ): alignY_=1\n",
    "    if( iPosX/10==1 ): alignX_=1\n",
    "    if( iPosX/10==2 ): alignX_=2\n",
    "    if( iPosX/10==3 ): alignX_=3\n",
    "    align_ = 10*alignX_ + alignY_\n",
    "\n",
    "    H = pad.GetWh()\n",
    "    W = pad.GetWw()\n",
    "    l = pad.GetLeftMargin()\n",
    "    t = pad.GetTopMargin()\n",
    "    r = pad.GetRightMargin()\n",
    "    b = pad.GetBottomMargin()\n",
    "    e = 0.025\n",
    "\n",
    "    pad.cd()\n",
    "\n",
    "    lumiText = \"\"\n",
    "    if( iPeriod==1 ):\n",
    "        lumiText += lumi_7TeV\n",
    "        lumiText += \" (7 TeV)\"\n",
    "    elif ( iPeriod==2 ):\n",
    "        lumiText += lumi_8TeV\n",
    "        lumiText += \" (8 TeV)\"\n",
    "\n",
    "    elif( iPeriod==3 ):      \n",
    "        lumiText = lumi_8TeV \n",
    "        lumiText += \" (8 TeV)\"\n",
    "        lumiText += \" + \"\n",
    "        lumiText += lumi_7TeV\n",
    "        lumiText += \" (7 TeV)\"\n",
    "    elif ( iPeriod==4 ):\n",
    "        lumiText += lumi_13TeV\n",
    "        lumiText += \" (13 TeV)\"\n",
    "    elif ( iPeriod==7 ):\n",
    "        if( outOfFrame ):lumiText += \"#scale[0.85]{\"\n",
    "        lumiText += lumi_13TeV \n",
    "        lumiText += \" (13 TeV)\"\n",
    "        lumiText += \" + \"\n",
    "        lumiText += lumi_8TeV \n",
    "        lumiText += \" (8 TeV)\"\n",
    "        lumiText += \" + \"\n",
    "        lumiText += lumi_7TeV\n",
    "        lumiText += \" (7 TeV)\"\n",
    "        if( outOfFrame): lumiText += \"}\"\n",
    "    elif ( iPeriod==12 ):\n",
    "        lumiText += \"8 TeV\"\n",
    "    elif ( iPeriod==0 ):\n",
    "        lumiText += lumi_sqrtS\n",
    "            \n",
    "    print (lumiText)\n",
    "\n",
    "    latex = ROOT.TLatex()\n",
    "    latex.SetNDC()\n",
    "    latex.SetTextAngle(0)\n",
    "    latex.SetTextColor(ROOT.kBlack)    \n",
    "    \n",
    "    extraTextSize = extraOverCmsTextSize*cmsTextSize\n",
    "    \n",
    "    latex.SetTextFont(42)\n",
    "    latex.SetTextAlign(31) \n",
    "    latex.SetTextSize(lumiTextSize*t)    \n",
    "\n",
    "    latex.DrawLatex(1-r,1-t+lumiTextOffset*t,lumiText)\n",
    "\n",
    "    if( outOfFrame ):\n",
    "        latex.SetTextFont(cmsTextFont)\n",
    "        latex.SetTextAlign(11) \n",
    "        latex.SetTextSize(cmsTextSize*t)    \n",
    "        latex.DrawLatex(l,1-t+lumiTextOffset*t,cmsText)\n",
    "  \n",
    "    pad.cd()\n",
    "\n",
    "    posX_ = 0\n",
    "    if( iPosX%10<=1 ):\n",
    "        posX_ =   l + relPosX*(1-l-r)\n",
    "    elif( iPosX%10==2 ):\n",
    "        posX_ =  l + 0.5*(1-l-r)\n",
    "    elif( iPosX%10==3 ):\n",
    "        posX_ =  1-r - relPosX*(1-l-r)\n",
    "\n",
    "    posY_ = 1-t - relPosY*(1-t-b)\n",
    "\n",
    "    if( not outOfFrame ):\n",
    "        if( drawLogo ):\n",
    "            posX_ =   l + 0.045*(1-l-r)*W/H\n",
    "            posY_ = 1-t - 0.045*(1-t-b)\n",
    "            xl_0 = posX_\n",
    "            yl_0 = posY_ - 0.15\n",
    "            xl_1 = posX_ + 0.15*H/W\n",
    "            yl_1 = posY_\n",
    "            CMS_logo = ROOT.TASImage(\"CMS-BW-label.png\")\n",
    "            pad_logo =  ROOT.TPad(\"logo\",\"logo\", xl_0, yl_0, xl_1, yl_1 )\n",
    "            pad_logo.Draw()\n",
    "            pad_logo.cd()\n",
    "            CMS_logo.Draw(\"X\")\n",
    "            pad_logo.Modified()\n",
    "            pad.cd()          \n",
    "        else:\n",
    "            latex.SetTextFont(cmsTextFont)\n",
    "            latex.SetTextSize(cmsTextSize*t)\n",
    "            latex.SetTextAlign(align_)\n",
    "            latex.DrawLatex(posX_, posY_, cmsText)\n",
    "            if( writeExtraText ) :\n",
    "                latex.SetTextFont(extraTextFont)\n",
    "                latex.SetTextAlign(align_)\n",
    "                latex.SetTextSize(extraTextSize*t)\n",
    "                latex.DrawLatex(posX_, posY_- relExtraDY*cmsTextSize*t, extraText)\n",
    "    elif( writeExtraText ):\n",
    "        if( iPosX==0):\n",
    "            posX_ =   l +  relPosX*(1-l-r) + 0.02\n",
    "            posY_ =   1-t+lumiTextOffset*t\n",
    "\n",
    "        latex.SetTextFont(extraTextFont)\n",
    "        latex.SetTextSize(extraTextSize*t)\n",
    "        latex.SetTextAlign(align_)\n",
    "        latex.DrawLatex(posX_+0.10, posY_, extraText)      \n",
    "\n",
    "    pad.Update()"
   ]
  },
  {
   "cell_type": "markdown",
   "id": "alleged-anime",
   "metadata": {
    "tags": []
   },
   "source": [
    "## tdrstyle"
   ]
  },
  {
   "cell_type": "code",
   "execution_count": 3,
   "id": "arctic-uncertainty",
   "metadata": {
    "ExecuteTime": {
     "end_time": "2021-03-14T13:18:11.397209Z",
     "start_time": "2021-03-14T13:18:11.043090Z"
    }
   },
   "outputs": [],
   "source": [
    "tdrStyle =  ROOT.TStyle(\"\",\"\")\n",
    "\n",
    "#for the canvas:\n",
    "tdrStyle.SetCanvasBorderMode(0)\n",
    "tdrStyle.SetCanvasColor(ROOT.kWhite)\n",
    "tdrStyle.SetCanvasDefH(1000) #Height of canvas\n",
    "tdrStyle.SetCanvasDefW(800) #Width of canvas\n",
    "tdrStyle.SetCanvasDefX(0)   #POsition on screen\n",
    "tdrStyle.SetCanvasDefY(0)\n",
    "\n",
    "\n",
    "tdrStyle.SetPadBorderMode(0)\n",
    "#tdrStyle.SetPadBorderSize(Width_t size = 1)\n",
    "tdrStyle.SetPadColor(ROOT.kWhite)\n",
    "tdrStyle.SetPadGridX(False)\n",
    "tdrStyle.SetPadGridY(False)\n",
    "tdrStyle.SetGridColor(0)\n",
    "tdrStyle.SetGridStyle(3)\n",
    "tdrStyle.SetGridWidth(1)\n",
    "\n",
    "#For the frame:\n",
    "tdrStyle.SetFrameBorderMode(1)\n",
    "tdrStyle.SetFrameBorderSize(1)\n",
    "tdrStyle.SetFrameFillColor(0)\n",
    "tdrStyle.SetFrameFillStyle(0)\n",
    "tdrStyle.SetFrameLineColor(1)\n",
    "tdrStyle.SetFrameLineStyle(1)\n",
    "tdrStyle.SetFrameLineWidth(1)\n",
    "\n",
    "#For the histo:\n",
    "#tdrStyle.SetHistFillColor(1)\n",
    "#tdrStyle.SetHistFillStyle(0)\n",
    "tdrStyle.SetHistLineColor(1)\n",
    "tdrStyle.SetHistLineStyle(0)\n",
    "tdrStyle.SetHistLineWidth(1)\n",
    "#tdrStyle.SetLegoInnerR(Float_t rad = 0.5)\n",
    "#tdrStyle.SetNumberContours(Int_t number = 20)\n",
    "\n",
    "tdrStyle.SetEndErrorSize(2)\n",
    "#tdrStyle.SetErrorMarker(20)\n",
    "#tdrStyle.SetErrorX(0.)\n",
    "\n",
    "tdrStyle.SetMarkerStyle(20)\n",
    "\n",
    "#For the fit/function:\n",
    "tdrStyle.SetOptFit(1)\n",
    "tdrStyle.SetFitFormat(\"5.4g\")\n",
    "tdrStyle.SetFuncColor(2)\n",
    "tdrStyle.SetFuncStyle(1)\n",
    "tdrStyle.SetFuncWidth(1)\n",
    "\n",
    "#For the date:\n",
    "tdrStyle.SetOptDate(0)\n",
    "# tdrStyle.SetDateX(Float_t x = 0.01)\n",
    "# tdrStyle.SetDateY(Float_t y = 0.01)\n",
    "\n",
    "# For the statistics box:\n",
    "tdrStyle.SetOptFile(0)\n",
    "tdrStyle.SetOptStat(0) # To display the mean and RMS:   SetOptStat(\"mr\")\n",
    "tdrStyle.SetStatColor(ROOT.kWhite)\n",
    "tdrStyle.SetStatFont(42)\n",
    "tdrStyle.SetStatFontSize(0.025)\n",
    "tdrStyle.SetStatTextColor(1)\n",
    "tdrStyle.SetStatFormat(\"6.4g\")\n",
    "tdrStyle.SetStatBorderSize(1)\n",
    "tdrStyle.SetStatH(0.1)\n",
    "tdrStyle.SetStatW(0.15)\n",
    "# tdrStyle.SetStatStyle(Style_t style = 1001)\n",
    "# tdrStyle.SetStatX(Float_t x = 0)\n",
    "# tdrStyle.SetStatY(Float_t y = 0)\n",
    "\n",
    "# Margins:\n",
    "tdrStyle.SetPadTopMargin(0.11)\n",
    "tdrStyle.SetPadBottomMargin(0.11)\n",
    "tdrStyle.SetPadLeftMargin(0.13)\n",
    "tdrStyle.SetPadRightMargin(0.15)\n",
    "\n",
    "# For the Global title:\n",
    "\n",
    "tdrStyle.SetOptTitle(0)\n",
    "tdrStyle.SetTitleFont(42)\n",
    "tdrStyle.SetTitleColor(1)\n",
    "tdrStyle.SetTitleTextColor(1)\n",
    "tdrStyle.SetTitleFillColor(10)\n",
    "tdrStyle.SetTitleFontSize(0.05)\n",
    "# tdrStyle.SetTitleH(0) # Set the height of the title box\n",
    "# tdrStyle.SetTitleW(0) # Set the width of the title box\n",
    "# tdrStyle.SetTitleX(0) # Set the position of the title box\n",
    "# tdrStyle.SetTitleY(0.985) # Set the position of the title box\n",
    "# tdrStyle.SetTitleStyle(Style_t style = 1001)\n",
    "# tdrStyle.SetTitleBorderSize(2)\n",
    "\n",
    "# For the axis titles:\n",
    "\n",
    "tdrStyle.SetTitleColor(1, \"XYZ\")\n",
    "tdrStyle.SetTitleFont(42, \"XYZ\")\n",
    "tdrStyle.SetTitleSize(0.04, \"XYZ\")\n",
    "#   tdrStyle.SetTitleXSize(Float_t size = 0.02) # Another way to set the size?\n",
    "#   tdrStyle.SetTitleYSize(Float_t size = 0.02)\n",
    "tdrStyle.SetTitleXOffset(0.9)\n",
    "tdrStyle.SetTitleYOffset(1.25)\n",
    "# tdrStyle.SetTitleOffset(1.1, \"Y\") # Another way to set the Offset\n",
    "\n",
    "# For the axis labels:\n",
    "\n",
    "tdrStyle.SetLabelColor(1, \"XYZ\")\n",
    "tdrStyle.SetLabelFont(42, \"XYZ\")\n",
    "tdrStyle.SetLabelOffset(0.007, \"XYZ\")\n",
    "tdrStyle.SetLabelSize(0.03, \"XYZ\")\n",
    "\n",
    "# For the axis:\n",
    "\n",
    "tdrStyle.SetAxisColor(1, \"XYZ\")\n",
    "tdrStyle.SetStripDecimals(True)\n",
    "tdrStyle.SetTickLength(0.03, \"XYZ\")\n",
    "tdrStyle.SetNdivisions(510, \"XYZ\")\n",
    "tdrStyle.SetPadTickX(1)  # To get tick marks on the opposite side of the frame\n",
    "tdrStyle.SetPadTickY(1)\n",
    "\n",
    "# Change for log plots:\n",
    "tdrStyle.SetOptLogx(0)\n",
    "tdrStyle.SetOptLogy(0)\n",
    "tdrStyle.SetOptLogz(0)\n",
    "\n",
    "# Postscript options:\n",
    "# tdrStyle.SetPaperSize(20.,20.)\n",
    "# tdrStyle.SetLineScalePS(Float_t scale = 3)\n",
    "# tdrStyle.SetLineStyleString(Int_t i, const char* text)\n",
    "# tdrStyle.SetHeaderPS(const char* header)\n",
    "# tdrStyle.SetTitlePS(const char* pstitle)\n",
    "\n",
    "# tdrStyle.SetBarOffset(Float_t baroff = 0.5)\n",
    "# tdrStyle.SetBarWidth(Float_t barwidth = 0.5)\n",
    "# tdrStyle.SetPaintTextFormat(const char* format = \"g\")\n",
    "# tdrStyle.SetPalette(Int_t ncolors = 0, Int_t* colors = 0)\n",
    "# tdrStyle.SetTimeOffset(Double_t toffset)\n",
    "# tdrStyle.SetHistMinimumZero(kTRUE)\n",
    "\n",
    "tdrStyle.SetHatchesLineWidth(1)\n",
    "tdrStyle.SetHatchesSpacing(0.5)\n",
    "\n",
    "tdrStyle.cd()"
   ]
  },
  {
   "cell_type": "markdown",
   "id": "ongoing-discretion",
   "metadata": {
    "jp-MarkdownHeadingCollapsed": true,
    "tags": []
   },
   "source": [
    "## ratio function"
   ]
  },
  {
   "cell_type": "code",
   "execution_count": 4,
   "id": "lucky-voltage",
   "metadata": {},
   "outputs": [],
   "source": [
    "from ROOT import TCanvas, TColor, TGaxis, TH1F, TPad\n",
    "from ROOT import kBlack, kBlue, kRed\n",
    "\n",
    "def createRatio(h1, h2):\n",
    "    h3 = h1.Clone(\"h3\")\n",
    "    h3.SetLineColor(kBlack)\n",
    "    h3.SetMarkerStyle(21)\n",
    "    h3.SetTitle(\"\")\n",
    "    h3.SetMinimum(0.50)\n",
    "    h3.SetMaximum(1.50)\n",
    "    # Set up plot for markers and errors\n",
    "    h3.Sumw2()\n",
    "    h3.SetStats(0)\n",
    "    h3.Divide(h2)\n",
    "\n",
    "    # Adjust y-axis settings\n",
    "    y = h3.GetYaxis()\n",
    "    y.SetTitle(\"Data / MC \")\n",
    "    y.SetNdivisions(103)\n",
    "    y.SetTitleSize(35)\n",
    "    y.SetTitleFont(43)\n",
    "    y.SetTitleOffset(1.50)\n",
    "    y.SetLabelFont(43)\n",
    "    y.SetLabelSize(35)\n",
    "\n",
    "    # Adjust x-axis settings\n",
    "    x = h3.GetXaxis()\n",
    "    x.SetTitleSize(35)\n",
    "    x.SetTitleFont(43)\n",
    "    x.SetTitleOffset(4.5)\n",
    "    x.SetLabelFont(43)\n",
    "    x.SetLabelSize(35)\n",
    "\n",
    "    return h3\n"
   ]
  },
  {
   "cell_type": "markdown",
   "id": "optical-underground",
   "metadata": {
    "tags": []
   },
   "source": [
    "## Truth variables test"
   ]
  },
  {
   "cell_type": "code",
   "execution_count": 70,
   "id": "behind-leeds",
   "metadata": {},
   "outputs": [
    {
     "name": "stderr",
     "output_type": "stream",
     "text": [
      "fill tau for /eos/user/s/sdeng/sfbdt/221027/bsm-higgs_tree.root: 100%|██████████| 22287/22287 [00:00<00:00, 196256.32it/s]\n",
      "fill tau for /eos/user/s/sdeng/sfbdt/221027/qcd-bbb-enriched_tree.root: 100%|██████████| 25944/25944 [00:00<00:00, 199180.75it/s]\n",
      "fill tau for /eos/user/s/sdeng/sfbdt/221027/qcd-ccc-enriched_tree.root: 100%|██████████| 14157/14157 [00:00<00:00, 194020.34it/s]\n"
     ]
    }
   ],
   "source": [
    "# file = \"/eos/user/s/sdeng/sfbdt/output_test_slim_ak8_qcd_2017/mc/zhcc_tree.root\"\n",
    "\n",
    "def AddHist(file, hist, variable):\n",
    "    sumpt_branches = uproot.open(file+':Events').keys(filter_name='fj*sumpt*')\n",
    "    npart_branches = uproot.open(file+':Events').keys(filter_name='fj*part*')\n",
    "    qualified_branches = uproot.open(file+':Events').keys(filter_name='fj*qualified*')\n",
    "    tau_branches = uproot.open(file+':Events').keys(filter_name='fj*Tau*')\n",
    "#     gen_branches = ['xsecWeight']\n",
    "    branches = ['passHTTrig',\n",
    "                'fj_1_pt',\n",
    "                'fj_1_sdmass',\n",
    "                'passmetfilters',\n",
    "               ]\n",
    "#     branches.extend(gen_branches)\n",
    "#     branches = set(sumpt_branches + gen_branches + npart_branches + qualified_branches)\n",
    "    branches = set(branches + sumpt_branches + npart_branches + qualified_branches + tau_branches)\n",
    "    arrays = uproot.open(file+':Events').arrays(branches, library='pd')\n",
    "\n",
    "    sel = 'fj_1_is_qualified==1 & passmetfilters==1 & passHTTrig==1 & fj_1_pt>200 & fj_1_sdmass>50 & fj_1_sdmass<200'\n",
    "    arrays = arrays.query(sel).copy()\n",
    "#     fj1_qual_cut = arrays.loc[:,'fj_1_is_qualified'] == True\n",
    "#     arrays = arrays.loc[fj1_qual_cut , :]\n",
    "\n",
    "#     arrays['fj1_ptg_ptgq'] = arrays[variable]/arrays['fj_1_part_sumpt']\n",
    "#     arrays['fj2_ptg_ptgq'] = arrays[variable]/arrays['fj_2_part_sumpt']\n",
    "\n",
    "    # Fill fj2 to NaN fj1\n",
    "#     arrays['fj1_ptg_ptgq'].fillna(arrays['fj2_ptg_ptgq'], inplace=True)\n",
    "    arrays['tau'] = arrays['fj_1_matchedInitHadsTau3']/arrays['fj_1_matchedInitHadsTau2']\n",
    "    var1 = 'tau'\n",
    "#     var2 = 'fj2_ptg_ptgq'\n",
    "    \n",
    "    for i in trange(0, len(arrays[var1]), desc=f'fill {var1} for {file}'):\n",
    "        if (arrays[var1].values[i]) or (arrays[var1].values[i] == 0):\n",
    "#             hist.Fill(float(arrays[var1].values[i]), float(arrays['xsecWeight'].values[i]))\n",
    "            hist.Fill(float(arrays[var1].values[i]))\n",
    "            \n",
    "#     for i in trange(0, len(arrays[var2]), desc=f'fill {var2} for {file}'):\n",
    "#         if arrays[var2].values[i]:\n",
    "#             hist.Fill(float(arrays[var2].values[i]), float(arrays['xsecWeight'].values[i]))\n",
    "    hist.Scale(1./hist.Integral())\n",
    "\n",
    "files = [\n",
    "    '/eos/user/s/sdeng/sfbdt/221027/bsm-higgs_tree.root',\n",
    "    '/eos/user/s/sdeng/sfbdt/221027/qcd-bbb-enriched_tree.root',\n",
    "    '/eos/user/s/sdeng/sfbdt/221027/qcd-ccc-enriched_tree.root',\n",
    "#     '/afs/cern.ch/user/s/sdeng/work/sdeng/sftp/sfbdt/CMSSW_11_1_0_pre5_PY3/src/PhysicsTools/NanoHRTTools/test_simple_module/test_output/qcd-mg_tree.root',\n",
    "#     '/afs/cern.ch/user/s/sdeng/work/sdeng/sftp/sfbdt/CMSSW_11_1_0_pre5_PY3/src/PhysicsTools/NanoHRTTools/test_simple_module/test_output/zhcc_tree.root',\n",
    "#     '/afs/cern.ch/user/s/sdeng/work/sdeng/sftp/sfbdt/CMSSW_11_1_0_pre5_PY3/src/PhysicsTools/NanoHRTTools/test_simple_module/test_output/zhbb_tree.root',\n",
    "#     '/afs/cern.ch/user/s/sdeng/work/sdeng/sftp/sfbdt/CMSSW_11_1_0_pre5_PY3/src/PhysicsTools/NanoHRTTools/test_simple_module/test_output/test.root',\n",
    "#     \"/eos/user/s/sdeng/sfbdt/output_test_slim_ak8_qcd_2017/mc/zhcc_tree.root\",\n",
    "#     \"/eos/user/s/sdeng/sfbdt/output_test_slim_ak8_qcd_2017/mc/zhbb_tree.root\",\n",
    "#     \"/eos/user/s/sdeng/sfbdt/output_test_slim_ak8_qcd_2017/mc/qcd-mg_tree.root\",\n",
    "]\n",
    "\n",
    "hists_ini = {}\n",
    "# flavor = 'g'\n",
    "# variable = f'fj_1_{flavor}part_sumpt'\n",
    "# variable = f'fj_1_{flavor}part_sumpt'\n",
    "variable = 'NONE'\n",
    "for file in files:\n",
    "    hists_ini[file] = {}\n",
    "    hists_ini[file]['hist'] = ROOT.TH1D(\"\",\"\", 20, 0, 1.1)\n",
    "    AddHist(file, hists_ini[file]['hist'], variable)"
   ]
  },
  {
   "cell_type": "code",
   "execution_count": 72,
   "id": "eastern-service",
   "metadata": {},
   "outputs": [
    {
     "name": "stdout",
     "output_type": "stream",
     "text": [
      "(13 TeV)\n"
     ]
    },
    {
     "data": {
      "image/png": "[encoded data removed]",
      "text/plain": [
       "<IPython.core.display.Image object>"
      ]
     },
     "metadata": {},
     "output_type": "display_data"
    }
   ],
   "source": [
    "# print(hists)\n",
    "hists = deepcopy(hists_ini)\n",
    "c1 = ROOT.TCanvas(\"\",\"\",1000,1000)\n",
    "c1.Draw()\n",
    "\n",
    "legend = ROOT.TLegend(0.30, 0.65, 0.55, 0.85)\n",
    "# legend.SetNColumns(3)\n",
    "legend.SetBorderSize(0)\n",
    "legend.SetFillColor(0)\n",
    "legend.SetTextSize(0.025)\n",
    "legend.SetLineWidth(1)\n",
    "legend.SetLineStyle(0)\n",
    "\n",
    "color = 1\n",
    "for hist in hists:\n",
    "    legend.AddEntry(hists[hist]['hist'], hist.split('/')[len(hist.split('/'))-1].rstrip('_tree.root'))\n",
    "    hists[hist]['hist'].Scale(1./hists[hist]['hist'].Integral())\n",
    "    hists[hist]['hist'].SetMarkerStyle(0)\n",
    "    hists[hist]['hist'].SetLineColor(color)\n",
    "    hists[hist]['hist'].SetLineWidth(2)\n",
    "#     hists[hist]['hist'].SetXTitle(f'gen-parton #Sigmap_{{T}}({flavor})/#Sigmap_{{T}}({flavor},p)')\n",
    "    hists[hist]['hist'].SetXTitle(f'Initial Hadron #tau_{{32}}')\n",
    "    hists[hist]['hist'].SetYTitle('A.U.')\n",
    "    hists[hist]['color'] = color\n",
    "    if color == 1:\n",
    "        hists[hist]['hist'].Draw(\"HIST e\")\n",
    "        hists[hist]['hist'].SetMaximum(0.5)\n",
    "    else:\n",
    "        hists[hist]['hist'].Draw(\"HIST e SAME\")\n",
    "    color += 1\n",
    "    if color == 3 : color += 1\n",
    "legend.Draw(\"SAME\")\n",
    "    \n",
    "CMS_lumi(c1,0,0)\n",
    "ROOT.gStyle.SetPadRightMargin(0.10)\n",
    "# c1.SaveAs(f'/eos/user/s/sdeng/www/220518_jet_gp_test/{flavor}_ptratio_2bp.png')\n",
    "# c1.SaveAs(f'/eos/user/s/sdeng/www/221027_jet_had_test/tau21.png')\n",
    "# arrays[['fj1_ptg_ptgq','fj2_ptg_ptgq']]"
   ]
  },
  {
   "cell_type": "markdown",
   "id": "loaded-beaver",
   "metadata": {
    "tags": []
   },
   "source": [
    "## pnet score check"
   ]
  },
  {
   "cell_type": "code",
   "execution_count": null,
   "id": "spoken-claim",
   "metadata": {
    "tags": []
   },
   "outputs": [],
   "source": [
    "cuts = {\n",
    "    'cut1':{\n",
    "        'name': 'design 1',\n",
    "        'sigexpr': 'fj_1_gpart_ptratio < 0.10',\n",
    "        'bkgexpr': 'fj_1_gpart_ptratio > 0.75'\n",
    "    },\n",
    "    'cut2':{\n",
    "        'name': 'design 2',\n",
    "        'sigexpr': '(fj_1_npart <= 2 & (fj_1_bpart_ptratio > 0.90 | fj_1_cpart_ptratio > 0.90)) | (fj_1_npart > 2 & (fj_1_bpart_ptratio > 0.70 | fj_1_cpart_ptratio > 0.70))',\n",
    "        'bkgexpr': '(fj_1_npart <= 2 & (fj_1_bpart_ptratio < 0.30 & fj_1_cpart_ptratio < 0.30)) | (fj_1_npart > 2 & (fj_1_bpart_ptratio < 0.20 & fj_1_cpart_ptratio < 0.20))'\n",
    "    },\n",
    "    'cut3':{\n",
    "        'name': 'design 3',\n",
    "        'sigexpr': '(fj_1_nbpart == 2 & fj_1_bpart_ptratio > 0.80) | (fj_1_ncpart == 2 & fj_1_cpart_ptratio > 0.80)',\n",
    "        'bkgexpr': 'fj_1_nbpart != 2 & fj_1_ncpart != 2 & fj_1_gpart_ptratio > 0.75'\n",
    "    }\n",
    "}\n",
    "\n",
    "def check_pnet(file, sigexpr, bkgexpr, var):\n",
    "    x = 1\n",
    "#     basesel = f'passHTTrig & fj_{x}_pt>200 & fj_{x}_sdmass>50 & fj_{x}_sdmass<200 & passmetfilters & (fj_{x}_nbhadrons>=2 | fj_{x}_nchadrons>=2) & fj_{x}_is_qualified'\n",
    "    basesel = f'passHTTrig & fj_{x}_pt>200 & fj_{x}_sdmass>50 & fj_{x}_sdmass<200 & passmetfilters & fj_{x}_nchadrons>0 & fj_{x}_nbhadrons==0 & fj_{x}_is_qualified'\n",
    "#     basesel = f'passHTTrig & fj_{x}_pt>200 & fj_{x}_sdmass>50 & fj_{x}_sdmass<200 & passmetfilters & fj_{x}_nbhadrons>0 & fj_{x}_is_qualified'\n",
    "    \n",
    "    train_vars = [\n",
    "        f'fj_{x}_tau21',\n",
    "        f'fj_{x}_sj1_rawmass',\n",
    "        f'fj_{x}_sj2_rawmass',\n",
    "        f'fj_{x}_ntracks_sv12',\n",
    "        f'fj_{x}_sj1_sv1_pt',\n",
    "        f'fj_{x}_sj2_sv1_pt',\n",
    "    ]\n",
    "    obs_vars = [\n",
    "        'event',\n",
    "        'passmetfilters',\n",
    "        'passHTTrig',\n",
    "        'ht',\n",
    "        'xsecWeight',\n",
    "        f'fj_{x}_dr_Z',\n",
    "        f'fj_{x}_pt',\n",
    "        f'fj_{x}_sdmass',\n",
    "        f'fj_{x}_nbhadrons',\n",
    "        f'fj_{x}_nchadrons',\n",
    "        f'fj_{x}_npart',\n",
    "        f'fj_{x}_nbpart',\n",
    "        f'fj_{x}_ncpart',\n",
    "        f'fj_{x}_ngpart',\n",
    "        f'fj_{x}_is_qualified',\n",
    "        f'fj_{x}_part_sumpt',\n",
    "        f'fj_{x}_cpart_sumpt',\n",
    "        f'fj_{x}_bpart_sumpt',\n",
    "        f'fj_{x}_gpart_sumpt',\n",
    "        f'fj_{x}_ParticleNetMD_XccVsQCD',\n",
    "        f'fj_{x}_ParticleNetMD_XbbVsQCD',\n",
    "    ]\n",
    "    add_vars = [\n",
    "        f'fj_{x}_cpart_ptratio',\n",
    "        f'fj_{x}_bpart_ptratio',\n",
    "        f'fj_{x}_gpart_ptratio',\n",
    "    ]\n",
    "    \n",
    "    all_vars = set(train_vars + obs_vars)\n",
    "    df = uproot.open(file+':Events').arrays(all_vars, library='pd')\n",
    "    df.query(basesel, inplace=True)\n",
    "    \n",
    "    df[f'fj_{x}_gpart_ptratio'] = df.eval(f'fj_{x}_gpart_sumpt/fj_{x}_part_sumpt')\n",
    "    df[f'fj_{x}_cpart_ptratio'] = df.eval(f'fj_{x}_cpart_sumpt/fj_{x}_part_sumpt')\n",
    "    df[f'fj_{x}_bpart_ptratio'] = df.eval(f'fj_{x}_bpart_sumpt/fj_{x}_part_sumpt')\n",
    "    df.query(f'({sigexpr}) | ({bkgexpr})', inplace=True)\n",
    "    df['is_signal'] = df.eval(sigexpr)\n",
    "#     print(df.loc[:,['fj_1_nchadrons','fj_1_ncpart','fj_1_nbhadrons','fj_1_nbpart']])\n",
    "    \n",
    "    sig_cut = df.loc[:,'is_signal'] == 1\n",
    "    bkg_cut = df.loc[:,'is_signal'] == 0\n",
    "    sig = df.loc[sig_cut,:]\n",
    "    bkg = df.loc[bkg_cut,:]\n",
    "\n",
    "    h_sig = ROOT.TH1D(\"\",\"\",20,0,1)\n",
    "    h_bkg = ROOT.TH1D(\"\",\"\",20,0,1)\n",
    "    \n",
    "    for i in trange(0, len(sig[var]), desc=f'fill sig {var} for {file}'):\n",
    "        h_sig.Fill(float(sig[var].values[i]), float(sig['xsecWeight'].values[i]))\n",
    "    for i in trange(0, len(bkg[var]), desc=f'fill bkg {var} for {file}'):\n",
    "        h_bkg.Fill(float(bkg[var].values[i]), float(bkg['xsecWeight'].values[i]))\n",
    "    \n",
    "    return h_sig, h_bkg\n",
    " \n",
    "    \n",
    "file = '/afs/cern.ch/user/s/sdeng/work/sdeng/sftp/sfbdt/CMSSW_11_1_0_pre5_PY3/src/PhysicsTools/NanoHRTTools/test_simple_module/test_output/qcd-mg_tree.root'\n",
    "var = f'fj_1_ParticleNetMD_XccVsQCD'\n",
    "for cut in cuts:\n",
    "    cuts[cut]['h_sig'], cuts[cut]['h_bkg'] = check_pnet(file, cuts[cut]['sigexpr'], cuts[cut]['bkgexpr'], var)\n",
    "    \n",
    "    \n",
    "    "
   ]
  },
  {
   "cell_type": "code",
   "execution_count": null,
   "id": "polar-theater",
   "metadata": {},
   "outputs": [],
   "source": [
    "# print(hists)\n",
    "hists = deepcopy(cuts)\n",
    "c1 = ROOT.TCanvas(\"\",\"\",1000,1000)\n",
    "c1.Draw()\n",
    "\n",
    "legend = ROOT.TLegend(0.60, 0.65, 0.85, 0.85)\n",
    "# legend.SetNColumns(3)\n",
    "legend.SetBorderSize(0)\n",
    "legend.SetFillColor(0)\n",
    "legend.SetTextSize(0.025)\n",
    "legend.SetLineWidth(1)\n",
    "legend.SetLineStyle(0)\n",
    "\n",
    "def SetStyle(hist, color, linestyle):\n",
    "    hist.SetMarkerStyle(0)\n",
    "    hist.SetLineColor(color)\n",
    "    hist.SetLineWidth(2)\n",
    "    hist.SetLineStyle(linestyle)\n",
    "    hist.SetXTitle(f'{var}')\n",
    "    hist.SetYTitle('A.U.')\n",
    "\n",
    "color = 1\n",
    "for hist in hists:\n",
    "    legend.AddEntry(hists[hist]['h_sig'], hists[hist]['name']+' sig')\n",
    "#     legend.AddEntry(hists[hist]['h_bkg'], hists[hist]['name']+' bkg')\n",
    "    hists[hist]['h_sig'].Scale(1./hists[hist]['h_sig'].Integral())\n",
    "#     hists[hist]['h_bkg'].Scale(1./hists[hist]['h_bkg'].Integral())\n",
    "    SetStyle(hists[hist]['h_sig'], color, 1)\n",
    "#     SetStyle(hists[hist]['h_bkg'], color+20, 1)\n",
    "    if color == 1:\n",
    "        hists[hist]['h_sig'].Draw(\"HIST e\")\n",
    "        hists[hist]['h_sig'].SetMaximum(0.7)\n",
    "    else:\n",
    "        hists[hist]['h_sig'].Draw(\"HIST e SAME\")\n",
    "#     hists[hist]['h_bkg'].Draw(\"HIST e SAME\")\n",
    "    color += 1\n",
    "    if color == 3 : color += 1\n",
    "legend.Draw(\"SAME\")\n",
    "    \n",
    "CMS_lumi(c1,0,0)\n",
    "ROOT.gStyle.SetPadRightMargin(0.05)\n",
    "# c1.SaveAs(f'/eos/user/s/sdeng/www/220519_jet_gp_test/{var}.png')\n",
    "# c1.SaveAs(f'/eos/user/s/sdeng/www/221027_jet_had_test/{var}.png')\n",
    "# ROOT.gPad.SetLogy()"
   ]
  },
  {
   "cell_type": "markdown",
   "id": "restricted-portfolio",
   "metadata": {
    "tags": []
   },
   "source": [
    "## Truth variables test 2D"
   ]
  },
  {
   "cell_type": "code",
   "execution_count": 89,
   "id": "graduate-corruption",
   "metadata": {},
   "outputs": [
    {
     "name": "stderr",
     "output_type": "stream",
     "text": [
      "fill tau21 for /eos/user/s/sdeng/sfbdt/221027/bsm-higgs_tree.root: 100%|██████████| 29025/29025 [00:00<00:00, 141099.35it/s]\n",
      "fill tau21 for /eos/user/s/sdeng/sfbdt/221027/qcd-bbb-enriched_tree.root: 100%|██████████| 45887/45887 [00:00<00:00, 141712.94it/s]\n",
      "fill tau21 for /eos/user/s/sdeng/sfbdt/221027/qcd-ccc-enriched_tree.root: 100%|██████████| 24278/24278 [00:00<00:00, 138067.84it/s]\n"
     ]
    }
   ],
   "source": [
    "# file = \"/eos/user/s/sdeng/sfbdt/output_test_slim_ak8_qcd_2017/mc/zhcc_tree.root\"\n",
    "\n",
    "def AddHist_2d(file, hist, variable1, variable2):\n",
    "    sumpt_branches = uproot.open(file+':Events').keys(filter_name='fj*sumpt*')\n",
    "    npart_branches = uproot.open(file+':Events').keys(filter_name='fj*part*')\n",
    "    qualified_branches = uproot.open(file+':Events').keys(filter_name='fj*qualified*')\n",
    "    tau_branches = uproot.open(file+':Events').keys(filter_name='fj*Tau*')\n",
    "#     gen_branches = ['xsecWeight']\n",
    "    branches = []\n",
    "    branches.extend(sumpt_branches)\n",
    "#     branches.extend(gen_branches)\n",
    "#     branches = set(sumpt_branches + gen_branches + npart_branches + qualified_branches)\n",
    "    branches = set(sumpt_branches + npart_branches + qualified_branches + tau_branches)\n",
    "    arrays = uproot.open(file+':Events').arrays(branches, library='pd')\n",
    "\n",
    "    fj1_qual_cut = arrays.loc[:,'fj_1_is_qualified'] == True\n",
    "#     npart_cut = (arrays.loc[:,'fj_1_npart'] <= 2) & (arrays.loc[:,'fj_1_npart'] > 0)\n",
    "#     npart_cut = (arrays.loc[:,'fj_1_nbpart'] >= 2) | (arrays.loc[:,'fj_1_ncpart'] >= 2)\n",
    "#     npart_cut = (arrays.loc[:,'fj_1_npart'] > 2)\n",
    "#     fj2_qual_cut = arrays.loc[:,'fj_2_is_qualified'] == True\n",
    "\n",
    "    # Select Only one fatjet events\n",
    "#     arrays = arrays.loc[fj1_qual_cut ^ fj2_qual_cut, :]\n",
    "    arrays = arrays.loc[fj1_qual_cut , :]\n",
    "\n",
    "    var1 = 'tau21'\n",
    "    var2 = 'tau31'\n",
    "#     arrays[var1] = arrays[variable1]/arrays['fj_1_part_sumpt']\n",
    "    arrays[var1] = arrays['fj_1_matchedInitHadsTau3']/arrays['fj_1_matchedInitHadsTau2']\n",
    "#     arrays[var2] = arrays[variable2]/arrays['fj_1_part_sumpt']\n",
    "    arrays[var2] = arrays['fj_1_matchedInitHadsTau2']/arrays['fj_1_matchedInitHadsTau1']\n",
    "#     arrays['fj2_ptg_ptgq'] = arrays[variable]/arrays['fj_2_part_sumpt']\n",
    "\n",
    "    # Fill fj2 to NaN fj1\n",
    "#     arrays['fj1_ptg_ptgq'].fillna(arrays['fj2_ptg_ptgq'], inplace=True)\n",
    "#     var2 = 'fj2_ptg_ptgq'\n",
    "    \n",
    "    for i in trange(0, len(arrays[var1]), desc=f'fill {var1} for {file}'):\n",
    "        if (arrays[var1].values[i]) or (arrays[var1].values[i] == 0):\n",
    "#             hist.Fill(float(arrays[var1].values[i]), float(arrays['xsecWeight'].values[i]))\n",
    "            hist.Fill(float(arrays[var2].values[i]), float(arrays[var1].values[i]))\n",
    "            \n",
    "#     for i in trange(0, len(arrays[var2]), desc=f'fill {var2} for {file}'):\n",
    "#         if arrays[var2].values[i]:\n",
    "#             hist.Fill(float(arrays[var2].values[i]), float(arrays['xsecWeight'].values[i]))\n",
    "\n",
    "files = [\n",
    "    '/eos/user/s/sdeng/sfbdt/221027/bsm-higgs_tree.root',\n",
    "    '/eos/user/s/sdeng/sfbdt/221027/qcd-bbb-enriched_tree.root',\n",
    "    '/eos/user/s/sdeng/sfbdt/221027/qcd-ccc-enriched_tree.root',\n",
    "#     '/afs/cern.ch/user/s/sdeng/work/sdeng/sftp/sfbdt/CMSSW_11_1_0_pre5_PY3/src/PhysicsTools/NanoHRTTools/test_simple_module/test_output/qcd-mg_tree.root',\n",
    "#     '/afs/cern.ch/user/s/sdeng/work/sdeng/sftp/sfbdt/CMSSW_11_1_0_pre5_PY3/src/PhysicsTools/NanoHRTTools/test_simple_module/test_output/zhcc_tree.root',\n",
    "#     '/afs/cern.ch/user/s/sdeng/work/sdeng/sftp/sfbdt/CMSSW_11_1_0_pre5_PY3/src/PhysicsTools/NanoHRTTools/test_simple_module/test_output/zhbb_tree.root',\n",
    "#     '/afs/cern.ch/user/s/sdeng/work/sdeng/sftp/sfbdt/CMSSW_11_1_0_pre5_PY3/src/PhysicsTools/NanoHRTTools/test_simple_module/test_output/test.root',\n",
    "#     \"/eos/user/s/sdeng/sfbdt/output_test_slim_ak8_qcd_2017/mc/zhcc_tree.root\",\n",
    "#     \"/eos/user/s/sdeng/sfbdt/output_test_slim_ak8_qcd_2017/mc/zhbb_tree.root\",\n",
    "#     \"/eos/user/s/sdeng/sfbdt/output_test_slim_ak8_qcd_2017/mc/qcd-mg_tree.root\",\n",
    "]\n",
    "\n",
    "hists_ini = {}\n",
    "flavor1 = 'b'\n",
    "flavor2 = 'c'\n",
    "variable1 = f'fj_1_{flavor1}part_sumpt'\n",
    "variable2 = f'fj_1_{flavor2}part_sumpt'\n",
    "for file in files:\n",
    "    hists_ini[file] = {}\n",
    "    hists_ini[file]['hist'] = ROOT.TH2D(\"\",\"\", 20, 0, 1.1, 20, 0, 1.1)\n",
    "    AddHist_2d(file, hists_ini[file]['hist'], variable1, variable2)"
   ]
  },
  {
   "cell_type": "code",
   "execution_count": 91,
   "id": "chicken-acrylic",
   "metadata": {},
   "outputs": [
    {
     "name": "stdout",
     "output_type": "stream",
     "text": [
      "(13 TeV)\n",
      "(13 TeV)\n",
      "(13 TeV)\n"
     ]
    },
    {
     "name": "stderr",
     "output_type": "stream",
     "text": [
      "Info in <TCanvas::Print>: png file /eos/user/s/sdeng/www/221027_jet_had_test/bsm-higgs_tau32_21.png has been created\n",
      "Info in <TCanvas::Print>: png file /eos/user/s/sdeng/www/221027_jet_had_test/qcd-bbb-enriched_tau32_21.png has been created\n",
      "Info in <TCanvas::Print>: png file /eos/user/s/sdeng/www/221027_jet_had_test/qcd-ccc-enriched_tau32_21.png has been created\n"
     ]
    },
    {
     "data": {
      "image/png": "[encoded data removed]",
      "text/plain": [
       "<IPython.core.display.Image object>"
      ]
     },
     "metadata": {},
     "output_type": "display_data"
    },
    {
     "data": {
      "image/png": "[encoded data removed]",
      "text/plain": [
       "<IPython.core.display.Image object>"
      ]
     },
     "metadata": {},
     "output_type": "display_data"
    },
    {
     "data": {
      "image/png": "[encoded data removed]",
      "text/plain": [
       "<IPython.core.display.Image object>"
      ]
     },
     "metadata": {},
     "output_type": "display_data"
    },
    {
     "data": {
      "image/png": "[encoded data removed]",
      "text/plain": [
       "<IPython.core.display.Image object>"
      ]
     },
     "metadata": {},
     "output_type": "display_data"
    }
   ],
   "source": [
    "# print(hists)\n",
    "hists = deepcopy(hists_ini)\n",
    "\n",
    "for hist in hists:\n",
    "    c1 = ROOT.TCanvas(\"\",\"\",1000,1000)\n",
    "    c1.Draw()\n",
    "    filename = hist.split('/')[len(hist.split('/'))-1].rstrip('_tree.root')\n",
    "    hists[hist]['hist'].Scale(1./hists[hist]['hist'].Integral())\n",
    "    hists[hist]['hist'].SetMarkerStyle(0)\n",
    "    hists[hist]['hist'].SetLineWidth(2)\n",
    "    hists[hist]['hist'].SetYTitle(f'Initial Hadron #tau_{{32}}')\n",
    "    hists[hist]['hist'].SetXTitle(f'Initial Hadron #tau_{{21}}')\n",
    "#     hists[hist]['hist'].SetYTitle(f'gen-parton #Sigmap_{{T}}({flavor1})/#Sigmap_{{T}}({flavor1},p)')\n",
    "#     hists[hist]['hist'].SetXTitle(f'gen-parton #Sigmap_{{T}}({flavor2})/#Sigmap_{{T}}({flavor2},p)')\n",
    "    hists[hist]['hist'].SetTitle(f'{filename}')\n",
    "    hists[hist]['hist'].SetMaximum(0.05)\n",
    "    hists[hist]['hist'].SetContour(30)\n",
    "    ROOT.gStyle.SetOptTitle(True)\n",
    "    hists[hist]['hist'].Draw(\"COLZ\")\n",
    "    \n",
    "    CMS_lumi(c1,0,0)\n",
    "    ROOT.gStyle.SetPadRightMargin(0.15)\n",
    "#     c1.SaveAs(f'/eos/user/s/sdeng/www/220512_jet_gp_test/ptratio_2d/{filename}_{flavor1}{flavor2}_ptratio_2+j_2d.png')\n",
    "    c1.SaveAs(f'/eos/user/s/sdeng/www/221027_jet_had_test/{filename}_tau32_21.png')\n",
    "# arrays[['fj1_ptg_ptgq','fj2_ptg_ptgq']]"
   ]
  },
  {
   "cell_type": "code",
   "execution_count": null,
   "id": "heavy-bibliography",
   "metadata": {},
   "outputs": [],
   "source": [
    "# file = \"/eos/user/s/sdeng/sfbdt/output_test_slim_ak8_qcd_2017/mc/zhcc_tree.root\"\n",
    "\n",
    "def AddHist_2d_pnet(file, hist, variable1, pnet):\n",
    "    sumpt_branches = uproot.open(file+':Events').keys(filter_name='fj_1*sumpt*')\n",
    "    npart_branches = uproot.open(file+':Events').keys(filter_name='fj_1*part*')\n",
    "    qualified_branches = uproot.open(file+':Events').keys(filter_name='fj_1*qualified*')\n",
    "    pnet_branches = uproot.open(file+':Events').keys(filter_name='fj_1_ParticleNetMD*')\n",
    "    gen_branches = ['xsecWeight']\n",
    "    branches = []\n",
    "    branches.extend(sumpt_branches)\n",
    "    branches.extend(gen_branches)\n",
    "    branches = set(sumpt_branches + gen_branches + npart_branches + qualified_branches + pnet_branches)\n",
    "    arrays = uproot.open(file+':Events').arrays(branches, library='pd')\n",
    "\n",
    "    fj1_qual_cut = arrays.loc[:,'fj_1_is_qualified'] == True\n",
    "    npart_cut = (arrays.loc[:,'fj_1_npart'] <= 2) & (arrays.loc[:,'fj_1_npart'] > 0)\n",
    "#     npart_cut = (arrays.loc[:,'fj_1_npart'] > 2)\n",
    "#     fj2_qual_cut = arrays.loc[:,'fj_2_is_qualified'] == True\n",
    "\n",
    "    # Select Only one fatjet events\n",
    "#     arrays = arrays.loc[fj1_qual_cut ^ fj2_qual_cut, :]\n",
    "    arrays = arrays.loc[fj1_qual_cut & npart_cut, :]\n",
    "\n",
    "    var1 = 'ptratio_1'\n",
    "    arrays[var1] = arrays[variable1]/arrays['fj_1_part_sumpt']\n",
    "#     arrays['fj2_ptg_ptgq'] = arrays[variable]/arrays['fj_2_part_sumpt']\n",
    "\n",
    "    # Fill fj2 to NaN fj1\n",
    "#     arrays['fj1_ptg_ptgq'].fillna(arrays['fj2_ptg_ptgq'], inplace=True)\n",
    "#     var2 = 'fj2_ptg_ptgq'\n",
    "    \n",
    "    for i in trange(0, len(arrays[var1]), desc=f'fill {var1} for {file}'):\n",
    "        if (arrays[var1].values[i]) or (arrays[var1].values[i] == 0):\n",
    "#             hist.Fill(float(arrays[var1].values[i]), float(arrays['xsecWeight'].values[i]))\n",
    "            hist.Fill(float(arrays[pnet].values[i]), float(arrays[var1].values[i]))\n",
    "            \n",
    "#     for i in trange(0, len(arrays[var2]), desc=f'fill {var2} for {file}'):\n",
    "#         if arrays[var2].values[i]:\n",
    "#             hist.Fill(float(arrays[var2].values[i]), float(arrays['xsecWeight'].values[i]))\n",
    "\n",
    "files = [\n",
    "    '/afs/cern.ch/user/s/sdeng/work/sdeng/sftp/sfbdt/CMSSW_11_1_0_pre5_PY3/src/PhysicsTools/NanoHRTTools/test_simple_module/test_output/qcd-mg_tree.root',\n",
    "    '/afs/cern.ch/user/s/sdeng/work/sdeng/sftp/sfbdt/CMSSW_11_1_0_pre5_PY3/src/PhysicsTools/NanoHRTTools/test_simple_module/test_output/zhcc_tree.root',\n",
    "    '/afs/cern.ch/user/s/sdeng/work/sdeng/sftp/sfbdt/CMSSW_11_1_0_pre5_PY3/src/PhysicsTools/NanoHRTTools/test_simple_module/test_output/zhbb_tree.root',\n",
    "#     '/afs/cern.ch/user/s/sdeng/work/sdeng/sftp/sfbdt/CMSSW_11_1_0_pre5_PY3/src/PhysicsTools/NanoHRTTools/test_simple_module/test_output/test.root',\n",
    "#     \"/eos/user/s/sdeng/sfbdt/output_test_slim_ak8_qcd_2017/mc/zhcc_tree.root\",\n",
    "#     \"/eos/user/s/sdeng/sfbdt/output_test_slim_ak8_qcd_2017/mc/zhbb_tree.root\",\n",
    "#     \"/eos/user/s/sdeng/sfbdt/output_test_slim_ak8_qcd_2017/mc/qcd-mg_tree.root\",\n",
    "]\n",
    "\n",
    "hists_ini = {}\n",
    "flavor1 = 'b'\n",
    "variable1 = f'fj_1_{flavor1}part_sumpt'\n",
    "pnet = 'fj_1_ParticleNetMD_XccVsQCD'\n",
    "# pnet = 'fj_1_ParticleNetMD_XccVsQCD'\n",
    "for file in files:\n",
    "    hists_ini[file] = {}\n",
    "    hists_ini[file]['hist'] = ROOT.TH2D(\"\",\"\", 20, 0, 1.1, 20, 0, 1.1)\n",
    "    AddHist_2d_pnet(file, hists_ini[file]['hist'], variable1, pnet)"
   ]
  },
  {
   "cell_type": "code",
   "execution_count": null,
   "id": "adjacent-satisfaction",
   "metadata": {},
   "outputs": [],
   "source": [
    "# print(hists)\n",
    "hists = deepcopy(hists_ini)\n",
    "\n",
    "for hist in hists:\n",
    "    c1 = ROOT.TCanvas(\"\",\"\",1000,1000)\n",
    "    c1.Draw()\n",
    "    filename = hist.split('/')[len(hist.split('/'))-1].rstrip('_tree.root')\n",
    "    hists[hist]['hist'].Scale(1./hists[hist]['hist'].Integral())\n",
    "    hists[hist]['hist'].SetMarkerStyle(0)\n",
    "    hists[hist]['hist'].SetLineWidth(2)\n",
    "    hists[hist]['hist'].SetYTitle(f'gen-parton #Sigmap_{{T}}({flavor1})/#Sigmap_{{T}}({flavor1},p)')\n",
    "    hists[hist]['hist'].SetXTitle(f'Score {pnet.lstrip(\"fj_1_\")}')\n",
    "    hists[hist]['hist'].SetTitle(f'{filename}')\n",
    "    hists[hist]['hist'].SetMaximum(0.2)\n",
    "    hists[hist]['hist'].SetContour(20)\n",
    "    ROOT.gStyle.SetOptTitle(True)\n",
    "    hists[hist]['hist'].Draw(\"COLZ\")\n",
    "    \n",
    "    CMS_lumi(c1,0,0)\n",
    "    ROOT.gStyle.SetPadRightMargin(0.15)\n",
    "    c1.SaveAs(f'/eos/user/s/sdeng/www/220512_jet_gp_test/ptratio_pnet_2d/{filename}_{flavor1}ptratio_{pnet.lstrip(\"fj_1_\")}_012j_2d.png')\n",
    "# arrays[['fj1_ptg_ptgq','fj2_ptg_ptgq']]"
   ]
  },
  {
   "cell_type": "markdown",
   "id": "current-liberia",
   "metadata": {
    "tags": []
   },
   "source": [
    "## eta-phi 2d average check "
   ]
  },
  {
   "cell_type": "code",
   "execution_count": null,
   "id": "analyzed-registration",
   "metadata": {},
   "outputs": [],
   "source": [
    "# file = '/afs/cern.ch/user/s/sdeng/work/sdeng/sftp/sfbdt/CMSSW_11_1_0_pre5_PY3/src/PhysicsTools/NanoHRTTools/test_simple_module/test_output/qcd-mg_tree.root'\n",
    "file = '/afs/cern.ch/user/s/sdeng/work/sdeng/sftp/sfbdt/CMSSW_11_1_0_pre5_PY3/src/PhysicsTools/NanoHRTTools/test_simple_module/test_output/zhbb_tree.root'\n",
    "# file = '/afs/cern.ch/user/s/sdeng/work/sdeng/sftp/sfbdt/CMSSW_11_1_0_pre5_PY3/src/PhysicsTools/NanoHRTTools/test_simple_module/test_output/zhcc_tree.root'\n",
    "\n",
    "f = ROOT.TFile(file,'READ')\n",
    "h_2d = f.Get('h_gp_cpart_2d')\n",
    "\n",
    "c1 = ROOT.TCanvas(\"\",\"\",1000,1000)\n",
    "c1.Draw()\n",
    "h_2d.Draw('COLZ')\n",
    "h_2d.SetXTitle(\"#eta\")\n",
    "h_2d.SetYTitle(\"#phi\")\n",
    "h_2d.SetContour(30)\n",
    "h_2d.Scale(1./h_2d.Integral())\n",
    "ROOT.gStyle.SetPalette(1)\n",
    "CMS_lumi(c1, 0, 0)"
   ]
  },
  {
   "cell_type": "markdown",
   "id": "canadian-earth",
   "metadata": {
    "tags": []
   },
   "source": [
    "## eta-phi 2d single check"
   ]
  },
  {
   "cell_type": "code",
   "execution_count": null,
   "id": "introductory-devil",
   "metadata": {},
   "outputs": [],
   "source": [
    "def plothist_singlecheck(file, **kawrgs):\n",
    "    \n",
    "    branches = {\n",
    "        'lp_branches' : {\n",
    "            'branch_name':['fj_1_lp_pt','fj_1_lp_eta','fj_1_lp_phi'],\n",
    "            'color':'black',\n",
    "            'alpha':0.2,\n",
    "            'marker':'o'\n",
    "        },\n",
    "        'bp_branches' : {\n",
    "            'branch_name':['fj_1_bp_pt','fj_1_bp_eta','fj_1_bp_phi'],\n",
    "            'color':'yellow',\n",
    "            'alpha':0.5,\n",
    "            'marker':'o'\n",
    "        },\n",
    "        'cp_branches' : {\n",
    "            'branch_name':['fj_1_cp_pt','fj_1_cp_eta','fj_1_cp_phi'],\n",
    "            'color':'red',\n",
    "            'alpha':0.5,\n",
    "            'marker':'o'\n",
    "        },\n",
    "        'gp_branches' : {\n",
    "            'branch_name':['fj_1_gp_pt','fj_1_gp_eta','fj_1_gp_phi'],\n",
    "            'color':'blue',\n",
    "            'alpha':0.5,\n",
    "            'marker':'o'\n",
    "        }\n",
    "    }\n",
    "\n",
    "    arrays_npart = uproot.open(file+':Events').arrays(['fj_1_npart', 'fj_1_is_qualified'], library='pd')\n",
    "    njet_cut = 0\n",
    "    npart_cut = (arrays_npart.loc[:,'fj_1_npart'] <= 2) & (arrays_npart.loc[:,'fj_1_npart'] > njet_cut) & (arrays_npart.loc[:,'fj_1_is_qualified'] == True)\n",
    "#     npart_cut = (arrays_npart.loc[:,'fj_1_npart'] >= 0) & (arrays_npart.loc[:,'fj_1_is_qualified'] == True)\n",
    "    arrays_npart = arrays_npart.loc[npart_cut,:].index.get_level_values(0)\n",
    "    \n",
    "    path = '/eos/user/s/sdeng/www/220511_jet_gp_test/'\n",
    "    name = file.split('/')[len(file.split('/'))-1].rstrip('_tree.root')\n",
    "    plt.style.use(hep.style.CMS)\n",
    "    branches_sum = uproot.open(file+':Events').keys(filter_name='fj_1_*p_pt')\n",
    "    branches_sum.extend(uproot.open(file+':Events').keys(filter_name='fj_1_*p_eta'))\n",
    "    branches_sum.extend(uproot.open(file+':Events').keys(filter_name='fj_1_*p_phi'))\n",
    "    branches_sum.append('fj_1_is_qualified')\n",
    "    arrays_sum = uproot.open(file+':Events').arrays(branches_sum, library='pd')\n",
    "    \n",
    "    branches_netscore = uproot.open(file+':Events').keys(filter_name='fj_1_ParticleNetMD*')\n",
    "    branches_sumpt = uproot.open(file+':Events').keys(filter_name='fj_1_*sumpt*')\n",
    "    arrays_score = uproot.open(file+':Events').arrays(set(branches_netscore + branches_sumpt), library='pd')\n",
    "    arrays_score['fj_1_gp_ptratio'] = arrays_score['fj_1_gpart_sumpt']/arrays_score['fj_1_part_sumpt']\n",
    "    arrays_score['fj_1_cp_ptratio'] = arrays_score['fj_1_cpart_sumpt']/arrays_score['fj_1_part_sumpt']\n",
    "    arrays_score['fj_1_bp_ptratio'] = arrays_score['fj_1_bpart_sumpt']/arrays_score['fj_1_part_sumpt']\n",
    "    \n",
    "    from tqdm import tqdm\n",
    "    for entry in tqdm(arrays_npart.tolist()[:100]):\n",
    "        scatter = []\n",
    "        is_empty = True\n",
    "#         fig = plt.figure(figsize=(10,10))\n",
    "        fig, ax = plt.subplots(figsize=(10,10))\n",
    "        for branch in branches:\n",
    "            branch_name = branches[branch]['branch_name']\n",
    "            color = branches[branch]['color']\n",
    "            alpha = branches[branch]['alpha']\n",
    "            marker = branches[branch]['marker']\n",
    "    #         print(branches[branch])\n",
    "            for arrays_temp in arrays_sum:\n",
    "                arrays = arrays_temp.copy()\n",
    "                is_qualified = arrays.loc[:,'fj_1_is_qualified'] == True\n",
    "                arrays = arrays.loc[is_qualified,:]\n",
    "                if (branch_name[0] in arrays.columns): \n",
    "    #                 print(branch_name[0])\n",
    "                    if (entry in arrays.index.get_level_values(0)):\n",
    "                        arrays = arrays.xs(entry)\n",
    "                        is_empty = False\n",
    "                        scatter = ax.scatter(arrays[branch_name[1]], arrays[branch_name[2]], 10 * arrays[branch_name[0]], c=color, alpha=alpha, marker=marker, label=branch)\n",
    "                        break\n",
    "                    else:\n",
    "                        break\n",
    "                else:\n",
    "                    continue\n",
    "\n",
    "        # arrays.xs(0)\n",
    "        if is_empty:\n",
    "            continue\n",
    "        else:\n",
    "            exam = []\n",
    "            exam_name = []\n",
    "            for branch in branches:\n",
    "                branch_name = branches[branch]['branch_name']\n",
    "                color = branches[branch]['color']\n",
    "                alpha = branches[branch]['alpha']\n",
    "                marker = branches[branch]['marker']\n",
    "                exam.append(ax.scatter(-999, -999, 80, c=color, alpha=alpha, marker=marker))\n",
    "                exam_name.append(branch.rstrip('_branches'))\n",
    "            ax.add_artist(ax.legend(handles = exam, labels = exam_name, loc='upper left'))\n",
    "            plt.title('fj1 Entry {entry}'.format(entry=entry))\n",
    "            plt.xlabel('$\\eta$')\n",
    "            plt.ylabel('$\\phi$')\n",
    "            plt.xlim([-2.5, 2.5])\n",
    "            plt.ylim([-3, 3])\n",
    "            x = 1.0 \n",
    "            y = -2.8\n",
    "            for i in ['fj_1_gp_ptratio', 'fj_1_cp_ptratio', 'fj_1_bp_ptratio']:\n",
    "                plt.text(x, y, '{name}:'.format(name=i.lstrip('fj_1_')) + '{:.2f}'.format(arrays_score.iloc[entry][i]), fontsize=20)\n",
    "                y += 0.4\n",
    "            x = -0.5 \n",
    "            y = 2.6\n",
    "            for i in ['fj_1_ParticleNetMD_XbbVsQCD', 'fj_1_ParticleNetMD_XccVsQCD', ]:\n",
    "                plt.text(x, y, '{name}:'.format(name=i.lstrip('fj_1_')) + '{:.2f}'.format(arrays_score.iloc[entry][i]), fontsize=20)\n",
    "                y -= 0.4\n",
    "            if os.path.exists(path+'{name}_{njet}j'.format(name=name, njet=njet_cut)):\n",
    "                pass\n",
    "            else:\n",
    "                os.makedirs(path+'{name}_{njet}j'.format(name=name, njet=njet_cut))\n",
    "            plt.savefig(path + '{name}_{njet}j/{name}_{entry}.png'.format(entry=entry, name=name, njet=njet_cut),bbox_inches='tight')\n",
    "            continue\n",
    "    #     plt.show()\n",
    "    \n",
    "files = [\n",
    "    '/afs/cern.ch/user/s/sdeng/work/sdeng/sftp/sfbdt/CMSSW_11_1_0_pre5_PY3/src/PhysicsTools/NanoHRTTools/test_simple_module/test_output/qcd-mg_tree.root',\n",
    "    '/afs/cern.ch/user/s/sdeng/work/sdeng/sftp/sfbdt/CMSSW_11_1_0_pre5_PY3/src/PhysicsTools/NanoHRTTools/test_simple_module/test_output/zhcc_tree.root',\n",
    "    '/afs/cern.ch/user/s/sdeng/work/sdeng/sftp/sfbdt/CMSSW_11_1_0_pre5_PY3/src/PhysicsTools/NanoHRTTools/test_simple_module/test_output/zhbb_tree.root',\n",
    "#     '/afs/cern.ch/user/s/sdeng/work/sdeng/sftp/sfbdt/CMSSW_11_1_0_pre5_PY3/src/PhysicsTools/NanoHRTTools/test_simple_module/test_output/test_tree.root',\n",
    "#     \"/eos/user/s/sdeng/sfbdt/output_test_slim_ak8_qcd_2017/mc/zhcc_tree.root\",\n",
    "#     \"/eos/user/s/sdeng/sfbdt/output_test_slim_ak8_qcd_2017/mc/zhbb_tree.root\",\n",
    "#     \"/eos/user/s/sdeng/sfbdt/output_test_slim_ak8_qcd_2017/mc/qcd-mg_tree.root\",\n",
    "]\n",
    "\n",
    "for file in files:\n",
    "    plothist_singlecheck(file)\n",
    "\n",
    "    "
   ]
  },
  {
   "cell_type": "markdown",
   "id": "extensive-marina",
   "metadata": {
    "tags": []
   },
   "source": [
    "## BDT - pnet 2d check"
   ]
  },
  {
   "cell_type": "code",
   "execution_count": 122,
   "id": "flexible-currency",
   "metadata": {},
   "outputs": [
    {
     "name": "stderr",
     "output_type": "stream",
     "text": [
      "fill fj_1_ParticleNetMD_XccVsQCD for /eos/user/s/sdeng/sfbdt/20220519_results/design_1_fj_1sfBDT/mc/qcd-mg_tree.root: 100%|██████████| 14304/14304 [00:00<00:00, 71711.99it/s]\n",
      "fill fj_1_ParticleNetMD_XccVsQCD for /eos/user/s/sdeng/sfbdt/20220519_results/design_2_fj_1sfBDT/mc/qcd-mg_tree.root: 100%|██████████| 14304/14304 [00:00<00:00, 71337.99it/s]\n",
      "fill fj_1_ParticleNetMD_XccVsQCD for /eos/user/s/sdeng/sfbdt/20220519_results/design_3_fj_1sfBDT/mc/qcd-mg_tree.root: 100%|██████████| 14304/14304 [00:00<00:00, 71881.51it/s]\n"
     ]
    }
   ],
   "source": [
    "cuts = {\n",
    "    'cut1':{\n",
    "        'name': 'design_1',\n",
    "        'sigexpr': 'fj_1_gpart_ptratio < 0.10',\n",
    "        'bkgexpr': 'fj_1_gpart_ptratio > 0.75'\n",
    "    },\n",
    "    'cut2':{\n",
    "        'name': 'design_2',\n",
    "        'sigexpr': '(fj_1_npart <= 2 & (fj_1_bpart_ptratio > 0.90 | fj_1_cpart_ptratio > 0.90)) | (fj_1_npart > 2 & (fj_1_bpart_ptratio > 0.70 | fj_1_cpart_ptratio > 0.70))',\n",
    "        'bkgexpr': '(fj_1_npart <= 2 & (fj_1_bpart_ptratio < 0.30 & fj_1_cpart_ptratio < 0.30)) | (fj_1_npart > 2 & (fj_1_bpart_ptratio < 0.20 & fj_1_cpart_ptratio < 0.20))'\n",
    "    },\n",
    "    'cut3':{\n",
    "        'name': 'design_3',\n",
    "        'sigexpr': '(fj_1_nbpart == 2 & fj_1_bpart_ptratio > 0.80) | (fj_1_ncpart == 2 & fj_1_cpart_ptratio > 0.80)',\n",
    "        'bkgexpr': 'fj_1_nbpart != 2 & fj_1_ncpart != 2 & fj_1_gpart_ptratio > 0.75'\n",
    "    }\n",
    "}\n",
    "\n",
    "var = 'fj_1_ParticleNetMD_XccVsQCD'\n",
    "bdt_name = 'fj1_sfBDT'\n",
    "xbins, xleft, xright = 20, 0, 1\n",
    "ybins, yleft, yright = 20, 0, 1\n",
    "eff = 0.9\n",
    "\n",
    "def PlotPNet(file, var, bdt_name, eff, xbins, xleft, xright):\n",
    "    x = 1\n",
    "#     basesel = f'passHTTrig & fj_{x}_pt>200 & fj_{x}_sdmass>50 & fj_{x}_sdmass<200 & passmetfilters & fj_{x}_nbhadrons>0 & fj_{x}_is_qualified'\n",
    "    basesel = f'passHTTrig & fj_{x}_pt>200 & fj_{x}_sdmass>50 & fj_{x}_sdmass<200 & passmetfilters & fj_{x}_nchadrons>0 & fj_{x}_nbhadrons==0 & fj_{x}_is_qualified'\n",
    "    branches = uproot.open(file+':Events').keys(filter_name='*')\n",
    "    df = uproot.open(file+':Events').arrays(branches, library='pd')\n",
    "    df.query(basesel, inplace=True)\n",
    "    \n",
    "    hist = ROOT.TH2D(\"\", \"\", xbins, xleft, xright, ybins, yleft, yright)\n",
    "    for i in trange(0, len(df[var]), desc=f'fill {var} for {file}'):\n",
    "        hist.Fill(float(df[var].values[i]), float(df[bdt_name].values[i]), float(df['xsecWeight'].values[i]))\n",
    "    hist.Scale(1./hist.Integral())\n",
    "    return hist\n",
    "\n",
    "\n",
    "for cut in cuts:\n",
    "    file = f'/eos/user/s/sdeng/sfbdt/20220519_results/{cuts[cut][\"name\"]}_fj_1sfBDT/mc/qcd-mg_tree.root'\n",
    "    cuts[cut]['hist'] = PlotPNet(file, var, bdt_name, eff, bins, xleft, xright)\n",
    "\n",
    "    "
   ]
  },
  {
   "cell_type": "code",
   "execution_count": 124,
   "id": "successful-playback",
   "metadata": {},
   "outputs": [
    {
     "name": "stdout",
     "output_type": "stream",
     "text": [
      "2017 (13 TeV)\n",
      "2017 (13 TeV)\n",
      "2017 (13 TeV)\n"
     ]
    },
    {
     "name": "stderr",
     "output_type": "stream",
     "text": [
      "Info in <TCanvas::Print>: png file /eos/user/s/sdeng/www/220519_jet_gp_test/design_1_bdt_fj_1_ParticleNetMD_XccVsQCD_2d.png has been created\n",
      "Info in <TCanvas::Print>: png file /eos/user/s/sdeng/www/220519_jet_gp_test/design_2_bdt_fj_1_ParticleNetMD_XccVsQCD_2d.png has been created\n",
      "Info in <TCanvas::Print>: png file /eos/user/s/sdeng/www/220519_jet_gp_test/design_3_bdt_fj_1_ParticleNetMD_XccVsQCD_2d.png has been created\n"
     ]
    },
    {
     "data": {
      "image/png": "[encoded data removed]",
      "text/plain": [
       "<IPython.core.display.Image object>"
      ]
     },
     "metadata": {},
     "output_type": "display_data"
    },
    {
     "data": {
      "image/png": "[encoded data removed]",
      "text/plain": [
       "<IPython.core.display.Image object>"
      ]
     },
     "metadata": {},
     "output_type": "display_data"
    },
    {
     "data": {
      "image/png": "[encoded data removed]",
      "text/plain": [
       "<IPython.core.display.Image object>"
      ]
     },
     "metadata": {},
     "output_type": "display_data"
    }
   ],
   "source": [
    "# print(hists)\n",
    "hists = deepcopy(cuts)\n",
    "\n",
    "for hist in hists:\n",
    "    c1 = ROOT.TCanvas(\"\",\"\",1000,1000)\n",
    "    c1.Draw()\n",
    "    hists[hist]['hist'].SetMarkerStyle(0)\n",
    "    hists[hist]['hist'].SetLineWidth(2)\n",
    "    hists[hist]['hist'].SetYTitle(f'BDT score')\n",
    "    hists[hist]['hist'].SetXTitle(f'{var}')\n",
    "    hists[hist]['hist'].SetTitle(f'{hists[hist][\"name\"]}')\n",
    "    hists[hist]['hist'].SetMaximum(0.02)\n",
    "    hists[hist]['hist'].SetContour(30)\n",
    "    ROOT.gStyle.SetOptTitle(True)\n",
    "    hists[hist]['hist'].Draw(\"COLZ\")\n",
    "    \n",
    "    CMS_lumi(c1,0,0)\n",
    "    ROOT.gStyle.SetPadRightMargin(0.20)\n",
    "    c1.SaveAs(f'/eos/user/s/sdeng/www/220519_jet_gp_test/{hists[hist][\"name\"]}_bdt_{var}_2d.png')\n",
    "# ROOT.gPad.SetLogy()"
   ]
  },
  {
   "cell_type": "code",
   "execution_count": null,
   "id": "falling-finger",
   "metadata": {},
   "outputs": [],
   "source": []
  },
  {
   "cell_type": "markdown",
   "id": "hungarian-wagon",
   "metadata": {
    "tags": []
   },
   "source": [
    "## BDT - certain eff pnet 1d check"
   ]
  },
  {
   "cell_type": "code",
   "execution_count": 19,
   "id": "viral-decrease",
   "metadata": {},
   "outputs": [
    {
     "name": "stderr",
     "output_type": "stream",
     "text": [
      "fill fj1_sfBDTnew for /home/pku/sdeng/sfbdt/20221027_fj_1sfBDT/old_design/mc/qcd-mg_tree.root: 100%|██████████| 13159/13159 [00:00<00:00, 225769.93it/s]\n"
     ]
    },
    {
     "name": "stdout",
     "output_type": "stream",
     "text": [
      "0.4459325396825396\n"
     ]
    },
    {
     "name": "stderr",
     "output_type": "stream",
     "text": [
      "fill fj_1_ParticleNetMD_XbbVsQCD for /home/pku/sdeng/sfbdt/20221027_fj_1sfBDT/old_design/mc/qcd-mg_tree.root: 100%|██████████| 6972/6972 [00:00<00:00, 114584.64it/s]\n",
      "fill fj1_sfBDTnew for /home/pku/sdeng/sfbdt/20221027_fj_1sfBDT/old_design/mc/qcd-mg_tree.root: 100%|██████████| 13159/13159 [00:00<00:00, 233771.91it/s]\n"
     ]
    },
    {
     "name": "stdout",
     "output_type": "stream",
     "text": [
      "0.6557943143812709\n"
     ]
    },
    {
     "name": "stderr",
     "output_type": "stream",
     "text": [
      "fill fj_1_ParticleNetMD_XbbVsQCD for /home/pku/sdeng/sfbdt/20221027_fj_1sfBDT/old_design/mc/qcd-mg_tree.root: 100%|██████████| 4249/4249 [00:00<00:00, 227481.69it/s]\n",
      "fill fj1_sfBDTnew for /home/pku/sdeng/sfbdt/20221027_fj_1sfBDT/old_design/mc/qcd-mg_tree.root: 100%|██████████| 13159/13159 [00:00<00:00, 229712.72it/s]\n"
     ]
    },
    {
     "name": "stdout",
     "output_type": "stream",
     "text": [
      "0.8785814771395077\n"
     ]
    },
    {
     "name": "stderr",
     "output_type": "stream",
     "text": [
      "fill fj_1_ParticleNetMD_XbbVsQCD for /home/pku/sdeng/sfbdt/20221027_fj_1sfBDT/old_design/mc/qcd-mg_tree.root: 100%|██████████| 1687/1687 [00:00<00:00, 222691.22it/s]\n",
      "fill fj1_sfBDTnew for /home/pku/sdeng/sfbdt/20221027_fj_1sfBDT/new_design/mc/qcd-mg_tree.root: 100%|██████████| 13159/13159 [00:00<00:00, 224086.07it/s]\n"
     ]
    },
    {
     "name": "stdout",
     "output_type": "stream",
     "text": [
      "0.4603494623655913\n"
     ]
    },
    {
     "name": "stderr",
     "output_type": "stream",
     "text": [
      "fill fj_1_ParticleNetMD_XbbVsQCD for /home/pku/sdeng/sfbdt/20221027_fj_1sfBDT/new_design/mc/qcd-mg_tree.root: 100%|██████████| 6850/6850 [00:00<00:00, 200358.32it/s]\n",
      "fill fj1_sfBDTnew for /home/pku/sdeng/sfbdt/20221027_fj_1sfBDT/new_design/mc/qcd-mg_tree.root: 100%|██████████| 13159/13159 [00:00<00:00, 231375.80it/s]\n"
     ]
    },
    {
     "name": "stdout",
     "output_type": "stream",
     "text": [
      "0.7017936802973976\n"
     ]
    },
    {
     "name": "stderr",
     "output_type": "stream",
     "text": [
      "fill fj_1_ParticleNetMD_XbbVsQCD for /home/pku/sdeng/sfbdt/20221027_fj_1sfBDT/new_design/mc/qcd-mg_tree.root: 100%|██████████| 4207/4207 [00:00<00:00, 228496.80it/s]\n",
      "fill fj1_sfBDTnew for /home/pku/sdeng/sfbdt/20221027_fj_1sfBDT/new_design/mc/qcd-mg_tree.root: 100%|██████████| 13159/13159 [00:00<00:00, 222958.16it/s]\n"
     ]
    },
    {
     "name": "stdout",
     "output_type": "stream",
     "text": [
      "0.910205\n"
     ]
    },
    {
     "name": "stderr",
     "output_type": "stream",
     "text": [
      "fill fj_1_ParticleNetMD_XbbVsQCD for /home/pku/sdeng/sfbdt/20221027_fj_1sfBDT/new_design/mc/qcd-mg_tree.root: 100%|██████████| 1858/1858 [00:00<00:00, 218475.38it/s]\n"
     ]
    }
   ],
   "source": [
    "cuts = {\n",
    "    'cut1':{\n",
    "        'name': 'old_design',\n",
    "        'sigexpr': 'fj_1_gpart_ptratio < 0.10',\n",
    "        'bkgexpr': 'fj_1_gpart_ptratio > 0.75'\n",
    "    },\n",
    "    'cut2':{\n",
    "        'name': 'new_design',\n",
    "        'sigexpr' : '(fj_1_matchedInitHadsTau3/fj_1_matchedInitHadsTau1)<0.2',\n",
    "        'bkgexpr' : '(fj_1_matchedInitHadsTau3/fj_1_matchedInitHadsTau1)>0.2'\n",
    "    }\n",
    "}\n",
    "\n",
    "var = 'fj_1_ParticleNetMD_XbbVsQCD'\n",
    "bdt_name = 'fj1_sfBDTnew'\n",
    "bins, xleft, xright = 20, 0, 1\n",
    "eff = 0.9\n",
    "\n",
    "\n",
    "def wp_eval(df, bdt_name, eff, xbins, xleft, xright):\n",
    "    \n",
    "    hist = ROOT.TH1D(\"\", \"\", bins, xleft, xright)\n",
    "    \n",
    "    for i in trange(0, len(df[bdt_name]), desc=f'fill {bdt_name} for {file}'):\n",
    "#         hist.Fill(float(df[bdt_name].values[i]), float(df['xsecWeight'].values[i]))\n",
    "        hist.Fill(float(df[bdt_name].values[i]))\n",
    "    hist.Scale(1./hist.Integral())\n",
    "    \n",
    "    effs = []\n",
    "    x = []\n",
    "    for bin in range(1,bins+1):\n",
    "        effs.append(hist.Integral(1, bin)/hist.Integral())\n",
    "        x.append(hist.GetXaxis().GetBinCenter(bin))\n",
    "        \n",
    "    g_eff = ROOT.TGraph(bins, array('d',effs), array('d',x))\n",
    "    return(g_eff, g_eff.Eval(eff))\n",
    "    \n",
    "def PlotPNet(file, var, bdt_name, eff, xbins, xleft, xright):\n",
    "    x = 1\n",
    "    basesel = f'passHTTrig & fj_{x}_pt>200 & fj_{x}_sdmass>50 & fj_{x}_sdmass<200 & passmetfilters & fj_{x}_nbhadrons>0 & fj_{x}_is_qualified'\n",
    "#     basesel = f'passHTTrig & fj_{x}_pt>200 & fj_{x}_sdmass>50 & fj_{x}_sdmass<200 & passmetfilters & fj_{x}_nchadrons>0 & fj_{x}_nbhadrons==0 & fj_{x}_is_qualified'\n",
    "    branches = uproot.open(file+':Events').keys(filter_name='*')\n",
    "    df = uproot.open(file+':Events').arrays(branches, library='pd')\n",
    "    df.query(basesel, inplace=True)\n",
    "    g_eff, wp = wp_eval(df, bdt_name, eff, bins, xleft, xright)\n",
    "    print(wp)\n",
    "    hist = ROOT.TH1D(\"\", \"\", bins, xleft, xright)\n",
    "\n",
    "    bdt_cut = df.loc[:,bdt_name] > wp\n",
    "    df = df.loc[bdt_cut,:]\n",
    "    \n",
    "    for i in trange(0, len(df[var]), desc=f'fill {var} for {file}'):\n",
    "#         hist.Fill(float(df[var].values[i]), float(df['xsecWeight'].values[i]))\n",
    "        hist.Fill(float(df[var].values[i]))\n",
    "    hist.Scale(1./hist.Integral())\n",
    "    return hist\n",
    "\n",
    "\n",
    "for cut in cuts:\n",
    "#     file = f'/eos/user/s/sdeng/sfbdt/20220519_results/{cuts[cut][\"name\"]}_fj_1sfBDT/mc/qcd-mg_tree.root'\n",
    "    file = f'/home/pku/sdeng/sfbdt/20221027_fj_1sfBDT/{cuts[cut][\"name\"]}/mc/qcd-mg_tree.root'\n",
    "    for eff in [0.5, 0.7, 0.9]:\n",
    "        cuts[cut][f'hist_{str(eff)}'] = PlotPNet(file, var, bdt_name, eff, bins, xleft, xright)\n",
    "\n",
    "    "
   ]
  },
  {
   "cell_type": "code",
   "execution_count": 23,
   "id": "young-prize",
   "metadata": {},
   "outputs": [
    {
     "name": "stdout",
     "output_type": "stream",
     "text": [
      "{'cut1': {'name': 'old_design', 'sigexpr': 'fj_1_gpart_ptratio < 0.10', 'bkgexpr': 'fj_1_gpart_ptratio > 0.75', 'hist_0.5': <cppyy.gbl.TH1D object at 0x563001e89090>, 'hist_0.7': <cppyy.gbl.TH1D object at 0x563001eb5010>, 'hist_0.9': <cppyy.gbl.TH1D object at 0x563001eb5580>}, 'cut2': {'name': 'new_design', 'sigexpr': '(fj_1_matchedInitHadsTau3/fj_1_matchedInitHadsTau1)<0.2', 'bkgexpr': '(fj_1_matchedInitHadsTau3/fj_1_matchedInitHadsTau1)>0.2', 'hist_0.5': <cppyy.gbl.TH1D object at 0x563001eb5af0>, 'hist_0.7': <cppyy.gbl.TH1D object at 0x563001eb60a0>, 'hist_0.9': <cppyy.gbl.TH1D object at 0x563001eb6650>}}\n",
      "(13 TeV)\n"
     ]
    },
    {
     "name": "stderr",
     "output_type": "stream",
     "text": [
      "Info in <TCanvas::Print>: png file ./plots/20221027/bdt_cut_fj_1_ParticleNetMD_XbbVsQCD.png has been created\n"
     ]
    },
    {
     "data": {
      "image/png": "[encoded data removed]",
      "text/plain": [
       "<IPython.core.display.Image object>"
      ]
     },
     "metadata": {},
     "output_type": "display_data"
    }
   ],
   "source": [
    "print(hists)\n",
    "hists = deepcopy(cuts)\n",
    "c1 = ROOT.TCanvas(\"\",\"\",1000,1000)\n",
    "c1.Draw()\n",
    "\n",
    "legend = ROOT.TLegend(0.30, 0.55, 0.55, 0.85)\n",
    "# legend.SetNColumns(3)\n",
    "legend.SetBorderSize(0)\n",
    "legend.SetFillColor(0)\n",
    "legend.SetTextSize(0.025)\n",
    "legend.SetLineWidth(1)\n",
    "legend.SetLineStyle(0)\n",
    "\n",
    "def SetStyle(hist, color, linestyle):\n",
    "    hist.SetMarkerStyle(0)\n",
    "    hist.SetLineColor(color)\n",
    "    hist.SetLineWidth(2)\n",
    "    hist.SetLineStyle(linestyle)\n",
    "    hist.SetXTitle(f'{var}')\n",
    "    hist.SetYTitle('A.U.')\n",
    "\n",
    "color = 1\n",
    "for hist in hists:\n",
    "    for eff in [0.5, 0.7, 0.9]:\n",
    "        legend.AddEntry(hists[hist][f'hist_{str(eff)}'], f'{hists[hist][\"name\"]} eff={str(eff)}')\n",
    "        hists[hist][f'hist_{str(eff)}'].Scale(1./hists[hist][f'hist_{str(eff)}'].Integral())\n",
    "        SetStyle(hists[hist][f'hist_{str(eff)}'], color, 1)\n",
    "        if color == 1:\n",
    "            hists[hist][f'hist_{str(eff)}'].Draw(\"HIST e\")\n",
    "            hists[hist][f'hist_{str(eff)}'].SetMaximum(0.7)\n",
    "        else:\n",
    "            hists[hist][f'hist_{str(eff)}'].Draw(\"HIST e SAME\")\n",
    "        color += 1\n",
    "        if color in [3,10] : color += 1\n",
    "legend.Draw(\"SAME\")\n",
    "    \n",
    "CMS_lumi(c1,0,0)\n",
    "ROOT.gStyle.SetPadRightMargin(0.05)\n",
    "# c1.SaveAs(f'/eos/user/s/sdeng/www/220519_jet_gp_test/bdt_cut_{var}.png')\n",
    "c1.SaveAs(f'./plots/20221027/bdt_cut_{var}.png')\n",
    "# ROOT.gPad.SetLogy()"
   ]
  },
  {
   "cell_type": "markdown",
   "id": "drawn-specialist",
   "metadata": {
    "tags": []
   },
   "source": [
    "## BDT - shape eff pnet 1d check"
   ]
  },
  {
   "cell_type": "code",
   "execution_count": 9,
   "id": "stable-lloyd",
   "metadata": {},
   "outputs": [
    {
     "name": "stderr",
     "output_type": "stream",
     "text": [
      "fill fj1_sfBDTnew for /home/pku/sdeng/sfbdt/20221027_fj_1sfBDT/old_design/mc/qcd-mg_tree.root: 100%|██████████| 13159/13159 [00:00<00:00, 222299.92it/s]\n"
     ]
    },
    {
     "name": "stdout",
     "output_type": "stream",
     "text": [
      "0.4412951807228915\n"
     ]
    },
    {
     "name": "stderr",
     "output_type": "stream",
     "text": [
      "fill fj_1_ParticleNetMD_XbbVsQCD for /home/pku/sdeng/sfbdt/20221027_fj_1sfBDT/old_design/mc/qcd-mg_tree.root: 100%|██████████| 7048/7048 [00:00<00:00, 218001.61it/s]\n",
      "fill fj1_sfBDTnew for /home/pku/sdeng/sfbdt/20221027_fj_1sfBDT/old_design/mc/qcd-mg_tree.root: 100%|██████████| 323/323 [00:00<00:00, 140637.41it/s]\n"
     ]
    },
    {
     "name": "stdout",
     "output_type": "stream",
     "text": [
      "0.6925\n"
     ]
    },
    {
     "name": "stderr",
     "output_type": "stream",
     "text": [
      "fill fj_1_ParticleNetMD_XbbVsQCD for /home/pku/sdeng/sfbdt/20221027_fj_1sfBDT/old_design/mc/zhbb_tree.root: 100%|██████████| 166/166 [00:00<00:00, 135801.53it/s]\n",
      "fill fj1_sfBDTnew for /home/pku/sdeng/sfbdt/20221027_fj_1sfBDT/old_design/mc/qcd-mg_tree.root: 100%|██████████| 6/6 [00:00<00:00, 53773.13it/s]\n"
     ]
    },
    {
     "name": "stdout",
     "output_type": "stream",
     "text": [
      "0.33\n"
     ]
    },
    {
     "name": "stderr",
     "output_type": "stream",
     "text": [
      "fill fj_1_ParticleNetMD_XbbVsQCD for /home/pku/sdeng/sfbdt/20221027_fj_1sfBDT/old_design/mc/zhcc_tree.root: 100%|██████████| 4/4 [00:00<00:00, 39475.80it/s]\n",
      "fill fj1_sfBDTnew for /home/pku/sdeng/sfbdt/20221027_fj_1sfBDT/old_design/mc/qcd-mg_tree.root: 100%|██████████| 13159/13159 [00:00<00:00, 245679.34it/s]\n"
     ]
    },
    {
     "name": "stdout",
     "output_type": "stream",
     "text": [
      "0.6518126801152737\n"
     ]
    },
    {
     "name": "stderr",
     "output_type": "stream",
     "text": [
      "fill fj_1_ParticleNetMD_XbbVsQCD for /home/pku/sdeng/sfbdt/20221027_fj_1sfBDT/old_design/mc/qcd-mg_tree.root: 100%|██████████| 4290/4290 [00:00<00:00, 235561.02it/s]\n",
      "fill fj1_sfBDTnew for /home/pku/sdeng/sfbdt/20221027_fj_1sfBDT/old_design/mc/qcd-mg_tree.root: 100%|██████████| 323/323 [00:00<00:00, 226814.03it/s]\n"
     ]
    },
    {
     "name": "stdout",
     "output_type": "stream",
     "text": [
      "0.8424615384615385\n"
     ]
    },
    {
     "name": "stderr",
     "output_type": "stream",
     "text": [
      "fill fj_1_ParticleNetMD_XbbVsQCD for /home/pku/sdeng/sfbdt/20221027_fj_1sfBDT/old_design/mc/zhbb_tree.root: 100%|██████████| 118/118 [00:00<00:00, 191758.18it/s]\n",
      "fill fj1_sfBDTnew for /home/pku/sdeng/sfbdt/20221027_fj_1sfBDT/old_design/mc/qcd-mg_tree.root: 100%|██████████| 6/6 [00:00<00:00, 52211.25it/s]\n"
     ]
    },
    {
     "name": "stdout",
     "output_type": "stream",
     "text": [
      "0.4739999999999997\n"
     ]
    },
    {
     "name": "stderr",
     "output_type": "stream",
     "text": [
      "fill fj_1_ParticleNetMD_XbbVsQCD for /home/pku/sdeng/sfbdt/20221027_fj_1sfBDT/old_design/mc/zhcc_tree.root: 100%|██████████| 2/2 [00:00<00:00, 21620.12it/s]\n",
      "fill fj1_sfBDTnew for /home/pku/sdeng/sfbdt/20221027_fj_1sfBDT/old_design/mc/qcd-mg_tree.root: 100%|██████████| 13159/13159 [00:00<00:00, 235567.87it/s]\n"
     ]
    },
    {
     "name": "stdout",
     "output_type": "stream",
     "text": [
      "0.8735557710960232\n"
     ]
    },
    {
     "name": "stderr",
     "output_type": "stream",
     "text": [
      "fill fj_1_ParticleNetMD_XbbVsQCD for /home/pku/sdeng/sfbdt/20221027_fj_1sfBDT/old_design/mc/qcd-mg_tree.root: 100%|██████████| 1745/1745 [00:00<00:00, 220672.97it/s]\n",
      "fill fj1_sfBDTnew for /home/pku/sdeng/sfbdt/20221027_fj_1sfBDT/old_design/mc/qcd-mg_tree.root: 100%|██████████| 323/323 [00:00<00:00, 228921.97it/s]\n"
     ]
    },
    {
     "name": "stdout",
     "output_type": "stream",
     "text": [
      "0.9174915254237288\n"
     ]
    },
    {
     "name": "stderr",
     "output_type": "stream",
     "text": [
      "fill fj_1_ParticleNetMD_XbbVsQCD for /home/pku/sdeng/sfbdt/20221027_fj_1sfBDT/old_design/mc/zhbb_tree.root: 100%|██████████| 70/70 [00:00<00:00, 170006.53it/s]\n",
      "fill fj1_sfBDTnew for /home/pku/sdeng/sfbdt/20221027_fj_1sfBDT/old_design/mc/qcd-mg_tree.root: 100%|██████████| 6/6 [00:00<00:00, 52980.68it/s]\n"
     ]
    },
    {
     "name": "stdout",
     "output_type": "stream",
     "text": [
      "0.858\n"
     ]
    },
    {
     "name": "stderr",
     "output_type": "stream",
     "text": [
      "fill fj_1_ParticleNetMD_XbbVsQCD for /home/pku/sdeng/sfbdt/20221027_fj_1sfBDT/old_design/mc/zhcc_tree.root: 100%|██████████| 1/1 [00:00<00:00, 13357.66it/s]\n",
      "fill fj1_sfBDTnew for /home/pku/sdeng/sfbdt/20221027_fj_1sfBDT/new_design/mc/qcd-mg_tree.root: 100%|██████████| 13159/13159 [00:00<00:00, 232594.64it/s]\n"
     ]
    },
    {
     "name": "stdout",
     "output_type": "stream",
     "text": [
      "0.45441860465116274\n"
     ]
    },
    {
     "name": "stderr",
     "output_type": "stream",
     "text": [
      "fill fj_1_ParticleNetMD_XbbVsQCD for /home/pku/sdeng/sfbdt/20221027_fj_1sfBDT/new_design/mc/qcd-mg_tree.root: 100%|██████████| 6914/6914 [00:00<00:00, 231275.61it/s]\n",
      "fill fj1_sfBDTnew for /home/pku/sdeng/sfbdt/20221027_fj_1sfBDT/new_design/mc/qcd-mg_tree.root: 100%|██████████| 323/323 [00:00<00:00, 199288.05it/s]\n"
     ]
    },
    {
     "name": "stdout",
     "output_type": "stream",
     "text": [
      "0.8496428571428571\n"
     ]
    },
    {
     "name": "stderr",
     "output_type": "stream",
     "text": [
      "fill fj_1_ParticleNetMD_XbbVsQCD for /home/pku/sdeng/sfbdt/20221027_fj_1sfBDT/new_design/mc/zhbb_tree.root: 100%|██████████| 176/176 [00:00<00:00, 203753.11it/s]\n",
      "fill fj1_sfBDTnew for /home/pku/sdeng/sfbdt/20221027_fj_1sfBDT/new_design/mc/qcd-mg_tree.root: 100%|██████████| 6/6 [00:00<00:00, 57719.78it/s]\n"
     ]
    },
    {
     "name": "stdout",
     "output_type": "stream",
     "text": [
      "0.69\n"
     ]
    },
    {
     "name": "stderr",
     "output_type": "stream",
     "text": [
      "fill fj_1_ParticleNetMD_XbbVsQCD for /home/pku/sdeng/sfbdt/20221027_fj_1sfBDT/new_design/mc/zhcc_tree.root: 100%|██████████| 3/3 [00:00<00:00, 32346.82it/s]\n",
      "fill fj1_sfBDTnew for /home/pku/sdeng/sfbdt/20221027_fj_1sfBDT/new_design/mc/qcd-mg_tree.root: 100%|██████████| 13159/13159 [00:00<00:00, 236444.84it/s]\n"
     ]
    },
    {
     "name": "stdout",
     "output_type": "stream",
     "text": [
      "0.6969363636363636\n"
     ]
    },
    {
     "name": "stderr",
     "output_type": "stream",
     "text": [
      "fill fj_1_ParticleNetMD_XbbVsQCD for /home/pku/sdeng/sfbdt/20221027_fj_1sfBDT/new_design/mc/qcd-mg_tree.root: 100%|██████████| 4265/4265 [00:00<00:00, 230304.95it/s]\n",
      "fill fj1_sfBDTnew for /home/pku/sdeng/sfbdt/20221027_fj_1sfBDT/new_design/mc/qcd-mg_tree.root: 100%|██████████| 323/323 [00:00<00:00, 225567.80it/s]\n"
     ]
    },
    {
     "name": "stdout",
     "output_type": "stream",
     "text": [
      "0.9103170731707316\n"
     ]
    },
    {
     "name": "stderr",
     "output_type": "stream",
     "text": [
      "fill fj_1_ParticleNetMD_XbbVsQCD for /home/pku/sdeng/sfbdt/20221027_fj_1sfBDT/new_design/mc/zhbb_tree.root: 100%|██████████| 143/143 [00:00<00:00, 193043.28it/s]\n",
      "fill fj1_sfBDTnew for /home/pku/sdeng/sfbdt/20221027_fj_1sfBDT/new_design/mc/qcd-mg_tree.root: 100%|██████████| 6/6 [00:00<00:00, 62601.55it/s]\n"
     ]
    },
    {
     "name": "stdout",
     "output_type": "stream",
     "text": [
      "0.876\n"
     ]
    },
    {
     "name": "stderr",
     "output_type": "stream",
     "text": [
      "fill fj_1_ParticleNetMD_XbbVsQCD for /home/pku/sdeng/sfbdt/20221027_fj_1sfBDT/new_design/mc/zhcc_tree.root: 100%|██████████| 2/2 [00:00<00:00, 26132.74it/s]\n",
      "fill fj1_sfBDTnew for /home/pku/sdeng/sfbdt/20221027_fj_1sfBDT/new_design/mc/qcd-mg_tree.root: 100%|██████████| 13159/13159 [00:00<00:00, 232631.89it/s]\n"
     ]
    },
    {
     "name": "stdout",
     "output_type": "stream",
     "text": [
      "0.902850699844479\n"
     ]
    },
    {
     "name": "stderr",
     "output_type": "stream",
     "text": [
      "fill fj_1_ParticleNetMD_XbbVsQCD for /home/pku/sdeng/sfbdt/20221027_fj_1sfBDT/new_design/mc/qcd-mg_tree.root: 100%|██████████| 1972/1972 [00:00<00:00, 233319.25it/s]\n",
      "fill fj1_sfBDTnew for /home/pku/sdeng/sfbdt/20221027_fj_1sfBDT/new_design/mc/qcd-mg_tree.root: 100%|██████████| 323/323 [00:00<00:00, 216519.13it/s]\n"
     ]
    },
    {
     "name": "stdout",
     "output_type": "stream",
     "text": [
      "0.9623142857142857\n"
     ]
    },
    {
     "name": "stderr",
     "output_type": "stream",
     "text": [
      "fill fj_1_ParticleNetMD_XbbVsQCD for /home/pku/sdeng/sfbdt/20221027_fj_1sfBDT/new_design/mc/zhbb_tree.root: 100%|██████████| 57/57 [00:00<00:00, 157182.99it/s]\n",
      "fill fj1_sfBDTnew for /home/pku/sdeng/sfbdt/20221027_fj_1sfBDT/new_design/mc/qcd-mg_tree.root: 100%|██████████| 6/6 [00:00<00:00, 61680.94it/s]\n"
     ]
    },
    {
     "name": "stdout",
     "output_type": "stream",
     "text": [
      "0.9119999999999999\n"
     ]
    },
    {
     "name": "stderr",
     "output_type": "stream",
     "text": [
      "fill fj_1_ParticleNetMD_XbbVsQCD for /home/pku/sdeng/sfbdt/20221027_fj_1sfBDT/new_design/mc/zhcc_tree.root: 100%|██████████| 2/2 [00:00<00:00, 16912.52it/s]\n"
     ]
    }
   ],
   "source": [
    "cuts = {\n",
    "    'cut1':{\n",
    "        'name': 'old_design',\n",
    "        'sigexpr': 'fj_1_gpart_ptratio < 0.10',\n",
    "        'bkgexpr': 'fj_1_gpart_ptratio > 0.75'\n",
    "    },\n",
    "    'cut2':{\n",
    "        'name': 'new_design',\n",
    "        'sigexpr' : '(fj_1_matchedInitHadsTau3/fj_1_matchedInitHadsTau1)<0.2',\n",
    "        'bkgexpr' : '(fj_1_matchedInitHadsTau3/fj_1_matchedInitHadsTau1)>0.2'\n",
    "    }\n",
    "}\n",
    "\n",
    "var = 'fj_1_ParticleNetMD_XbbVsQCD'\n",
    "bdt_name = 'fj1_sfBDTnew'\n",
    "bins, xleft, xright = 20, 0, 1.2\n",
    "eff = 0.9\n",
    "\n",
    "\n",
    "def wp_eval(df, bdt_name, eff, xbins, xleft, xright):\n",
    "    \n",
    "    hist = ROOT.TH1D(\"\", \"\", bins, xleft, xright)\n",
    "    \n",
    "    for i in trange(0, len(df[bdt_name]), desc=f'fill {bdt_name} for {file}'):\n",
    "#         hist.Fill(float(df[bdt_name].values[i]), float(df['xsecWeight'].values[i]))\n",
    "        hist.Fill(float(df[bdt_name].values[i]))\n",
    "    hist.Scale(1./hist.Integral())\n",
    "    \n",
    "    effs = []\n",
    "    x = []\n",
    "    for bin in range(1,bins+1):\n",
    "        effs.append(hist.Integral(1, bin)/hist.Integral())\n",
    "        x.append(hist.GetXaxis().GetBinCenter(bin))\n",
    "        \n",
    "    g_eff = ROOT.TGraph(bins, array('d',effs), array('d',x))\n",
    "    return(g_eff, g_eff.Eval(eff))\n",
    "    \n",
    "def PlotPNet(file, var, bdt_name, eff, xbins, xleft, xright):\n",
    "    x = 1\n",
    "    basesel = f'passHTTrig & fj_{x}_pt>200 & fj_{x}_sdmass>50 & fj_{x}_sdmass<200 & passmetfilters & fj_{x}_nbhadrons>0 & fj_{x}_is_qualified'\n",
    "#     basesel = f'passHTTrig & fj_{x}_pt>200 & fj_{x}_sdmass>50 & fj_{x}_sdmass<200 & passmetfilters & fj_{x}_nchadrons>0 & fj_{x}_nbhadrons==0 & fj_{x}_is_qualified'\n",
    "    branches = uproot.open(file+':Events').keys(filter_name='*')\n",
    "    df = uproot.open(file+':Events').arrays(branches, library='pd')\n",
    "    df.query(basesel, inplace=True)\n",
    "    g_eff, wp = wp_eval(df, bdt_name, eff, bins, xleft, xright)\n",
    "    print(wp)\n",
    "    hist = ROOT.TH1D(\"\", \"\", bins, xleft, xright)\n",
    "\n",
    "    bdt_cut = df.loc[:,bdt_name] > wp\n",
    "    df = df.loc[bdt_cut,:]\n",
    "    \n",
    "    for i in trange(0, len(df[var]), desc=f'fill {var} for {file}'):\n",
    "#         hist.Fill(float(df[var].values[i]), float(df['xsecWeight'].values[i]))\n",
    "        hist.Fill(float(df[var].values[i]))\n",
    "    hist.Scale(1./hist.Integral())\n",
    "    return hist\n",
    "\n",
    "\n",
    "for cut in cuts:\n",
    "#     file = f'/eos/user/s/sdeng/sfbdt/20220519_results/{cuts[cut][\"name\"]}_fj_1sfBDT/mc/qcd-mg_tree.root'\n",
    "    file = f'/home/pku/sdeng/sfbdt/20221027_fj_1sfBDT/{cuts[cut][\"name\"]}/mc/qcd-mg_tree.root'\n",
    "    file_vhbb = f'/home/pku/sdeng/sfbdt/20221027_fj_1sfBDT/{cuts[cut][\"name\"]}/mc/zhbb_tree.root'\n",
    "    file_vhcc = f'/home/pku/sdeng/sfbdt/20221027_fj_1sfBDT/{cuts[cut][\"name\"]}/mc/zhcc_tree.root'\n",
    "    for eff in [0.5, 0.7, 0.9]:\n",
    "        cuts[cut][f'hist_{str(eff)}'] = PlotPNet(file, var, bdt_name, eff, bins, xleft, xright)\n",
    "        cuts[cut][f'vhbbhist_{str(eff)}'] = PlotPNet(file_vhbb, var, bdt_name, eff, bins, xleft, xright)\n",
    "        cuts[cut][f'vhcchist_{str(eff)}'] = PlotPNet(file_vhcc, var, bdt_name, eff, bins, xleft, xright)\n",
    "\n",
    "    "
   ]
  },
  {
   "cell_type": "code",
   "execution_count": 10,
   "id": "quality-hawaii",
   "metadata": {},
   "outputs": [
    {
     "name": "stdout",
     "output_type": "stream",
     "text": [
      "(13 TeV)\n"
     ]
    },
    {
     "data": {
      "image/png": "[encoded data removed]",
      "text/plain": [
       "<IPython.core.display.Image object>"
      ]
     },
     "metadata": {},
     "output_type": "display_data"
    }
   ],
   "source": [
    "hists = deepcopy(cuts)\n",
    "def SetStyle(hist, color, linestyle):\n",
    "    hist.SetMarkerStyle(0)\n",
    "    hist.SetLineColor(color)\n",
    "    hist.SetLineWidth(2)\n",
    "    hist.SetLineStyle(linestyle)\n",
    "    hist.SetXTitle(f'{var}')\n",
    "    hist.SetYTitle('A.U.')\n",
    "        # Adjust y-axis settings\n",
    "    # hist.GetYaxis().SetNdivisions(105)\n",
    "    hist.GetYaxis().SetTitleSize(45)\n",
    "    hist.GetYaxis().SetTitleFont(43)\n",
    "    hist.GetYaxis().SetTitleOffset(1.65)\n",
    "    hist.GetYaxis().SetLabelFont(43)\n",
    "    hist.GetYaxis().SetLabelSize(38)\n",
    "    hist.GetYaxis().SetLabelOffset(0.015)\n",
    "\n",
    "    # Adjust x-axis settings\n",
    "    hist.GetXaxis().SetTitleSize(45)\n",
    "    hist.GetXaxis().SetTitleFont(43)\n",
    "    hist.GetXaxis().SetTitleOffset(3.3)\n",
    "    hist.GetXaxis().SetLabelFont(43)\n",
    "    hist.GetXaxis().SetLabelSize(38)\n",
    "    hist.GetXaxis().SetLabelOffset(0.015)\n",
    "\n",
    "# for eff in [0.5, 0.7, 0.9]:\n",
    "for eff in [0.9]:\n",
    "    c1 = ROOT.TCanvas(\"\",\"\",1000,1000)\n",
    "\n",
    "    c1.Draw()\n",
    "#     pad1 = ROOT.TPad(\"pad1\", \"pad1\", 0, 0.00, 1, 1.00)\n",
    "#     pad1.SetTopMargin(0.1)  # joins upper and lower plot\n",
    "#     pad1.SetBottomMargin(0.050)  # joins upper and lower plot\n",
    "#     # pad1.SetGridx()\n",
    "#     pad1.Draw()\n",
    "    legend = ROOT.TLegend(0.30, 0.55, 0.55, 0.85)\n",
    "    # legend.SetNColumns(3)\n",
    "    legend.SetBorderSize(0)\n",
    "    legend.SetFillColor(0)\n",
    "    legend.SetTextSize(0.025)\n",
    "    legend.SetLineWidth(1)\n",
    "    legend.SetLineStyle(0)\n",
    "    \n",
    "#     # Lower ratio plot is pad2\n",
    "#     c1.cd()  # returns to main canvas before defining pad2\n",
    "#     pad2 = ROOT.TPad(\"pad2\", \"pad2\", 0, 0.00, 1, 0.30)\n",
    "#     pad2.SetTopMargin(0.040)  # joins upper and lower plot\n",
    "#     pad2.SetBottomMargin(0.40)  # joins upper and lower plot\n",
    "#     pad2.SetGridy()\n",
    "# #     pad2.Draw()\n",
    "#     legend2 = ROOT.TLegend(0.50, 0.75, 0.80, 0.85)\n",
    "#     # legend2.SetNColumns(3)\n",
    "#     legend2.SetBorderSize(0)\n",
    "#     legend2.SetFillColor(0)\n",
    "#     legend2.SetTextSize(0.025)\n",
    "#     legend2.SetLineWidth(1)\n",
    "#     legend2.SetLineStyle(0)\n",
    "#     c1.cd()\n",
    "\n",
    "    \n",
    "\n",
    "    color = 1\n",
    "    for hist in hists:\n",
    "        legend.AddEntry(hists[hist][f'hist_{str(eff)}'], f'{hists[hist][\"name\"]} qcd eff={str(eff)}')\n",
    "        legend.AddEntry(hists[hist][f'vhbbhist_{str(eff)}'], f'{hists[hist][\"name\"]} vhbb eff={str(eff)}')\n",
    "#         legend.AddEntry(hists[hist][f'vhcchist_{str(eff)}'], f'{hists[hist][\"name\"]} vhcc eff={str(eff)}')\n",
    "        hists[hist][f'hist_{str(eff)}'].Scale(1./hists[hist][f'hist_{str(eff)}'].Integral())\n",
    "        hists[hist][f'vhbbhist_{str(eff)}'].Scale(1./hists[hist][f'vhbbhist_{str(eff)}'].Integral())\n",
    "        hists[hist][f'vhcchist_{str(eff)}'].Scale(1./hists[hist][f'vhcchist_{str(eff)}'].Integral())\n",
    "        SetStyle(hists[hist][f'hist_{str(eff)}'], color, 1)\n",
    "        SetStyle(hists[hist][f'vhbbhist_{str(eff)}'], color+1, 1)\n",
    "        SetStyle(hists[hist][f'vhcchist_{str(eff)}'], color+2, 1)\n",
    "        \n",
    "#         pad1.cd()\n",
    "        if color == 1:\n",
    "            hists[hist][f'hist_{str(eff)}'].Draw(\"HIST e\")\n",
    "            hists[hist][f'hist_{str(eff)}'].SetMaximum(1.0)\n",
    "#             hists[hist][f'hist_{str(eff)}'].GetXaxis().SetLabelSize(0)\n",
    "            hists[hist][f'hist_{str(eff)}'].SetXTitle('fj_1_ParticleNetMD_XbbVsQCD')\n",
    "        else:\n",
    "            hists[hist][f'hist_{str(eff)}'].Draw(\"HIST e SAME\")\n",
    "        hists[hist][f'vhbbhist_{str(eff)}'].Draw(\"HIST e SAME\")\n",
    "#         hists[hist][f'vhcchist_{str(eff)}'].Draw(\"HIST e SAME\")\n",
    "            \n",
    "        ROOT.gPad.RedrawAxis()\n",
    "        \n",
    "#         pad2.cd()\n",
    "#         h_ratio = createRatio(hists[hist][f'vhbbhist_{str(eff)}'], hists[hist][f'hist_{str(eff)}'])\n",
    "#         SetStyle(h_ratio, color+30, 1)\n",
    "#         legend2.AddEntry(h_ratio, f'{hists[hist][\"name\"]}')\n",
    "#         h_ratio.SetYTitle(\"vh/qcd.\")\n",
    "#         if color == 1:\n",
    "#             h_ratio.Draw(\"e2\")\n",
    "#         else:\n",
    "#             h_ratio.Draw(\"e2 SAME\")\n",
    "        \n",
    "        color += 3\n",
    "        if color in [3,10] : color += 1\n",
    "        ROOT.gPad.RedrawAxis()\n",
    "        c1.cd()\n",
    "            \n",
    "#     pad1.cd()\n",
    "    legend.Draw(\"SAME\")\n",
    "#     pad2.cd()\n",
    "#     legend2.Draw(\"SAME\")\n",
    "    \n",
    "#     ROOT.gStyle.SetPadRightMargin(0.05)\n",
    "    ROOT.gPad.RedrawAxis()\n",
    "    CMS_lumi(c1,0,0)\n",
    "    c1.Update()\n",
    "    # c1.SaveAs(f'/eos/user/s/sdeng/www/220519_jet_gp_test/bdt_cut_{var}.png')\n",
    "#     c1.SaveAs(f'./plots/20221027/shape_bdt_cut_{var}_{eff}.png')\n",
    "    # ROOT.gPad.SetLogy()\n",
    "#     del c1,pad1,pad2"
   ]
  },
  {
   "cell_type": "markdown",
   "id": "german-cloud",
   "metadata": {},
   "source": [
    "## test"
   ]
  },
  {
   "cell_type": "code",
   "execution_count": null,
   "id": "younger-disco",
   "metadata": {
    "jupyter": {
     "source_hidden": true
    },
    "tags": []
   },
   "outputs": [],
   "source": [
    "# file = '/afs/cern.ch/user/s/sdeng/work/sdeng/sftp/sfbdt/CMSSW_11_1_0_pre5_PY3/src/PhysicsTools/NanoHRTTools/test_simple_module/test_output/qcd-mg_tree.root'\n",
    "# file = '/afs/cern.ch/user/s/sdeng/work/sdeng/sftp/sfbdt/CMSSW_11_1_0_pre5_PY3/src/PhysicsTools/NanoHRTTools/test_simple_module/test_output/test_tree.root'\n",
    "file =  '/afs/cern.ch/user/s/sdeng/work/sdeng/sftp/sfbdt/CMSSW_11_1_0_pre5_PY3/src/PhysicsTools/NanoHRTTools/test_simple_module/test_output/zhcc_tree.root'\n",
    "#     \"/eos/user/s/sdeng/sfbdt/output_test_slim_ak8_qcd_2017/mc/zhcc_tree.root\",\n",
    "#     \"/eos/user/s/sdeng/sfbdt/output_test_slim_ak8_qcd_2017/mc/zhbb_tree.root\",\n",
    "#     \"/eos/user/s/sdeng/sfbdt/output_test_slim_ak8_qcd_2017/mc/qcd-mg_tree.root\",\n",
    "\n",
    "# sumpt_branches = uproot.open(file+':Events').keys(filter_name='fj*')\n",
    "# gen_branches = ['xsecWeight']\n",
    "# branches = ['fj_1_ngpart','fj_1_gp_pt','fj_1_gp_eta','fj_1_gp_phi','fj_1_is_qualified']\n",
    "branches = ['fj_1_ngpart','fj_1_nbpart','fj_1_ncpart','fj_1_nlpart','fj_1_npart','fj_1_part_sumpt','fj_1_bpart_sumpt','fj_1_is_qualified','fj_1_ParticleNetMD_Xbb']\n",
    "# branches.extend(sumpt_branches)\n",
    "# branches.extend(gen_branches)\n",
    "arrays = uproot.open(file+':Events').arrays(branches, library='pd')\n",
    "qua_cut = arrays.loc[:,'fj_1_is_qualified'] == True\n",
    "arrays = arrays.loc[qua_cut,:]\n",
    "arrays['fj1_ptg_ptgq'] = arrays[variable]/arrays['fj_1_part_sumpt']\n",
    "# arrays.iloc[0]['fj_1_ParticleNetMD_Xbb']\n",
    "arrays\n",
    "# arrays = uproot.open(file+':Events')\n",
    "# arrays.keys()\n",
    "# arrays.index\n",
    "# arrays.xs(0, level='subentry')\n",
    "# arrays = arrays.xs(8)\n",
    "# arrays.plot(kind='scatter', x='fj_1_np_eta', y='fj_1_np_phi', s='fj_1_np_pt', c='r')\n",
    "# plt.show()\n",
    "# arrays[0].columns\n",
    "# arrays.index.levels[0]\n",
    "# for array in arrays:\n",
    "#     array_test = array.copy()\n",
    "#     is_qualified = array_test.loc[:,'fj_1_is_qualified'] == True\n",
    "#     array_test = array_test.loc[is_qualified,:]\n",
    "#     array_test.index.dropna()\n",
    "#     print(array_test)\n",
    "# #     print(array_test.index.get_level_values(0))\n",
    "# n_cut = arrays.loc[:,'fj_1_npart'] > 2\n",
    "# is_qualified = arrays.loc[:,'fj_1_is_qualified'] == True\n",
    "# arrays = arrays.loc[n_cut & is_qualified, :]\n",
    "# arrays.index.get_level_values(0)\n",
    "# fig = plt.figure(figsize=(10,10))\n",
    "# plt.scatter(arrays.xs(13)['fj_1_gp_eta'], arrays.xs(13)['fj_1_gp_phi'], arrays.xs(13)['fj_1_gp_pt'])\n",
    "# plt.xlim([-2.5, 2.5])\n",
    "# plt.ylim([-3, 3])\n",
    "\n",
    "# indarr = [[0, 0, 1, 1, 2, 2, 2, 3],\n",
    "#           [0, 1, 0, 1, 0, 1, 2, 0]]\n",
    "# ind = pd.MultiIndex.from_tuples(list(zip(*indarr)), names=['entry', 'subentry'])\n",
    "# f = pd.DataFrame({\"mu_cells_side\":[2,2,3,3,1,1,1,8] , \"mu_cells_tower\":[1,2,3,4,5,6,7,8]}, index=ind)\n",
    "# f\n",
    "\n",
    "# fj1_qual_cut = arrays.loc[:,'fj_1_is_qualified'] == True\n",
    "# fj2_qual_cut = arrays.loc[:,'fj_2_is_qualified'] == True\n",
    "\n",
    "# # Select Only one fatjet events\n",
    "# arrays = arrays.loc[fj1_qual_cut ^ fj2_qual_cut, :]\n",
    "# arrays['fj1_ptg_ptgq'] = arrays['fj_1_gpart_sumpt']/arrays['fj_1_part_sumpt']\n",
    "# arrays['fj2_ptg_ptgq'] = arrays['fj_2_gpart_sumpt']/arrays['fj_2_part_sumpt']\n",
    "# arrays['fj1_ptg_ptgq'].fillna(arrays['fj2_ptg_ptgq'], inplace=True)\n",
    "# arrays.loc[:,['fj1_ptg_ptgq','fj2_ptg_ptgq']]"
   ]
  },
  {
   "cell_type": "markdown",
   "id": "green-decade",
   "metadata": {},
   "source": [
    "## 1d comparison"
   ]
  },
  {
   "cell_type": "code",
   "execution_count": 78,
   "id": "specified-tolerance",
   "metadata": {},
   "outputs": [
    {
     "name": "stderr",
     "output_type": "stream",
     "text": [
      "fill fj_1_ParticleNetMD_XbbVsQCD for /data/pku/home/licq/hcc/new/samples/trees_sf/202200922_ULNanoV9_higgs_ak8_higgs_2018/mc/gghbb_tree.root: 100%|██████████| 74601/74601 [00:00<00:00, 140230.57it/s]\n",
      "fill fj_1_ParticleNetMD_XbbVsQCD for /home/pku/sdeng/sfbdt/20221109/full_tau31_10_10_fj1_sfBDT/mc/qcd-mg_tree.root: 100%|██████████| 102999/102999 [00:00<00:00, 139523.95it/s]\n"
     ]
    },
    {
     "name": "stdout",
     "output_type": "stream",
     "text": [
      "0.057683831902713256 0.9716697493537527\n"
     ]
    },
    {
     "name": "stderr",
     "output_type": "stream",
     "text": [
      "fill fj_1_ParticleNetMD_XbbVsQCD for /home/pku/sdeng/sfbdt/20221109/full_tau31_10_10_fj1_sfBDT/mc/qcd-mg_tree.root: 100%|██████████| 76854/76854 [00:00<00:00, 139742.61it/s]\n",
      "fill fj_1_ParticleNetMD_XbbVsQCD for /home/pku/sdeng/sfbdt/20221109/full_tau31_10_10_fj1_sfBDT/mc/qcd-mg_tree.root: 100%|██████████| 221176/221176 [00:01<00:00, 139550.62it/s]\n",
      "fill fj_1_ParticleNetMD_XbbVsQCD for /home/pku/sdeng/sfbdt/20221109/full_tau31_10_10_fj1_sfBDT/mc/qcd-mg_tree.root: 100%|██████████| 70791/70791 [00:00<00:00, 137832.21it/s]\n"
     ]
    },
    {
     "name": "stdout",
     "output_type": "stream",
     "text": [
      "Variance for /home/pku/sdeng/sfbdt/20221109/full_tau31_10_10_fj1_sfBDT/mc/qcd-mg_tree.root: 0.05740672909835137\n",
      "WP for /home/pku/sdeng/sfbdt/20221109/full_tau31_10_10_fj1_sfBDT/mc/qcd-mg_tree.root: 0.7763466656208039\n",
      "\n",
      "\n"
     ]
    },
    {
     "name": "stderr",
     "output_type": "stream",
     "text": [
      "fill fj_1_ParticleNetMD_XbbVsQCD for /home/pku/sdeng/sfbdt/20221109/full_tau21_10_10_fj1_sfBDT/mc/qcd-mg_tree.root: 100%|██████████| 69926/69926 [00:00<00:00, 135723.45it/s]\n"
     ]
    },
    {
     "name": "stdout",
     "output_type": "stream",
     "text": [
      "Variance for /home/pku/sdeng/sfbdt/20221109/full_tau21_10_10_fj1_sfBDT/mc/qcd-mg_tree.root: 0.05742263654596023\n",
      "WP for /home/pku/sdeng/sfbdt/20221109/full_tau21_10_10_fj1_sfBDT/mc/qcd-mg_tree.root: 0.6943986227114997\n",
      "\n",
      "\n"
     ]
    },
    {
     "name": "stderr",
     "output_type": "stream",
     "text": [
      "fill fj_1_ParticleNetMD_XbbVsQCD for /home/pku/sdeng/sfbdt/20221109/full_retrain_gptratio_fj1_sfBDT/mc/qcd-mg_tree.root: 100%|██████████| 108825/108825 [00:00<00:00, 139653.62it/s]\n"
     ]
    },
    {
     "name": "stdout",
     "output_type": "stream",
     "text": [
      "Variance for /home/pku/sdeng/sfbdt/20221109/full_retrain_gptratio_fj1_sfBDT/mc/qcd-mg_tree.root: 0.05764783932918637\n",
      "WP for /home/pku/sdeng/sfbdt/20221109/full_retrain_gptratio_fj1_sfBDT/mc/qcd-mg_tree.root: 0.8488377138188011\n",
      "\n",
      "\n"
     ]
    }
   ],
   "source": [
    "import math\n",
    "\n",
    "cuts = {\n",
    "    'cut1':{\n",
    "        'name': 'sig:#tau_{(31, gen)}<0.10, bkg:#tau_{(31, gen)}>0.10',\n",
    "        'file': '/home/pku/sdeng/sfbdt/20221109/full_tau31_10_10_fj1_sfBDT/mc/qcd-mg_tree.root'\n",
    "    },\n",
    "    'cut2':{\n",
    "        'name': 'sig:#tau_{(21, gen)}<0.10, bkg:#tau_{(21, gen)}>0.10',\n",
    "        'file': '/home/pku/sdeng/sfbdt/20221109/full_tau21_10_10_fj1_sfBDT/mc/qcd-mg_tree.root'\n",
    "    },\n",
    "    'cut3':{\n",
    "        'name': 'retrain parton level BDT',\n",
    "        'file': '/home/pku/sdeng/sfbdt/20221109/full_retrain_gptratio_fj1_sfBDT/mc/qcd-mg_tree.root'\n",
    "    },\n",
    "\n",
    "}\n",
    "\n",
    "var = 'fj_1_ParticleNetMD_XbbVsQCD'\n",
    "# var = 'fj_1_DeepAK8_ZHbbvsQCD' # all zero?\n",
    "# var = 'fj_1_DeepAK8MD_ZHbbvsQCD'\n",
    "# var = 'fj_1_DeepAK8MD_HbbvsQCD'\n",
    "# var = 'fj_1_btagDDBvLV2'\n",
    "# var = 'fj_1_btagHbb'\n",
    "bdt_name = 'fj1_sfBDT_add'\n",
    "xbins, xleft, xright = 25, 0, 1.0\n",
    "eff = 0.9\n",
    "\n",
    "\n",
    "def wp_eval(df, bdt_name, eff, xbins, xleft, xright):\n",
    "    \n",
    "    xbins = 1000\n",
    "    xleft = 0\n",
    "    xright = 1\n",
    "    hist = ROOT.TH1D(\"\", \"\", xbins, xleft, xright)\n",
    "    \n",
    "    for i in trange(0, len(df[bdt_name]), desc=f'fill {bdt_name}'):\n",
    "        hist.Fill(float(df[bdt_name].values[i]), float(df['true_weight'].values[i]))\n",
    "    hist.Scale(1./hist.Integral())\n",
    "    \n",
    "    effs = []\n",
    "    x = []\n",
    "    for bin in range(1,xbins+1):\n",
    "        effs.append(hist.Integral(1, bin)/hist.Integral())\n",
    "        x.append(hist.GetXaxis().GetBinLowEdge(bin)+hist.GetXaxis().GetBinWidth(bin))\n",
    "#         print(x)\n",
    "        \n",
    "    g_eff = ROOT.TGraph(xbins, array('d',effs), array('d',x))\n",
    "    return(g_eff, g_eff.Eval(eff))\n",
    "\n",
    "def weighted_quantile(values, quantiles, sample_weight=None, \n",
    "                      values_sorted=False, old_style=False):\n",
    "    \"\"\" Very close to numpy.percentile, but supports weights.\n",
    "    NOTE: quantiles should be in [0, 1]!\n",
    "    :param values: numpy.array with data\n",
    "    :param quantiles: array-like with many quantiles needed\n",
    "    :param sample_weight: array-like of the same length as `array`\n",
    "    :param values_sorted: bool, if True, then will avoid sorting of\n",
    "        initial array\n",
    "    :param old_style: if True, will correct output to be consistent\n",
    "        with numpy.percentile.\n",
    "    :return: numpy.array with computed quantiles.\n",
    "    \"\"\"\n",
    "    values = np.array(values)\n",
    "    quantiles = np.array(quantiles)\n",
    "    if sample_weight is None:\n",
    "        sample_weight = np.ones(len(values))\n",
    "    sample_weight = np.array(sample_weight)\n",
    "    assert np.all(quantiles >= 0) and np.all(quantiles <= 1), \\\n",
    "        'quantiles should be in [0, 1]'\n",
    "\n",
    "    if not values_sorted:\n",
    "        sorter = np.argsort(values)\n",
    "        values = values[sorter]\n",
    "        sample_weight = sample_weight[sorter]\n",
    "\n",
    "    weighted_quantiles = np.cumsum(sample_weight) - 0.5 * sample_weight\n",
    "    if old_style:\n",
    "        # To be convenient with numpy.percentile\n",
    "        weighted_quantiles -= weighted_quantiles[0]\n",
    "        weighted_quantiles /= weighted_quantiles[-1]\n",
    "    else:\n",
    "        weighted_quantiles /= np.sum(sample_weight)\n",
    "    return np.interp(quantiles, weighted_quantiles, values)\n",
    "\n",
    "    \n",
    "def PlotPNet(file, var, bdt_name, eff, xbins, xleft, xright):\n",
    "    x = 1\n",
    "    basesel = f'passHTTrig & fj_{x}_pt>200 & fj_{x}_sdmass>50 & fj_{x}_sdmass<200 & passmetfilters & fj_{x}_is_qualified & fj_{x}_nbhadrons>0 & fj_{x}_sj1_sv1_pt>0 & fj_{x}_sj2_sv1_pt>0'\n",
    "#     basesel = f'passHTTrig & fj_{x}_pt>200 & fj_{x}_sdmass>50 & fj_{x}_sdmass<200 & passmetfilters & fj_{x}_nchadrons>0 & fj_{x}_nbhadrons==0 & fj_{x}_is_qualified'\n",
    "    branches = []\n",
    "    branches.extend(['fj_1_sj1_sv1_pt','fj_1_sj2_sv1_pt','puWeight','xsecWeight','genWeight','passHTTrig','passmetfilters','fj_1_pt','fj_1_sdmass','fj_1_is_qualified','fj_1_nbhadrons','fj_1_nchadrons'])\n",
    "    branches.append(var)\n",
    "    branches.append(bdt_name)\n",
    "    df = uproot.open(file+':Events').arrays(branches, library='pd')\n",
    "    df.query(basesel, inplace=True)\n",
    "    wgtexpr = 'genWeight*xsecWeight*puWeight'\n",
    "    df['true_weight'] = df.eval(wgtexpr)\n",
    "#     g_eff, wp = wp_eval(df, bdt_name, eff, xbins, xleft, xright)\n",
    "    wp = weighted_quantile(df[bdt_name], [0.9], sample_weight=df['true_weight'])[0]\n",
    "#     print(wp)\n",
    "    hist = ROOT.TH1D(\"\", \"\", xbins, xleft, xright)\n",
    "\n",
    "    bdt_cut = df.loc[:,bdt_name] > wp\n",
    "    df = df.loc[bdt_cut,:]\n",
    "    \n",
    "    for i in trange(0, len(df[var]), desc=f'fill {var} for {file}'):\n",
    "        hist.Fill(float(df[var].values[i]), float(df['true_weight'].values[i]))\n",
    "    hist.Scale(1./hist.Integral())\n",
    "    return hist, wp\n",
    "\n",
    "def PlotRef(file, var, bdt_name, eff, xbins, xleft, xright):\n",
    "    x = 1\n",
    "    basesel = f'fj_{x}_pt>200 & fj_{x}_sdmass>50 & fj_{x}_sdmass<200 & passmetfilters & fj_{x}_is_qualified & fj_{x}_nbhadrons>0 & fj_{x}_dr_H<0.8 & fj_{x}_dr_H_daus<0.8'\n",
    "#     basesel = f'passHTTrig & fj_{x}_pt>200 & fj_{x}_sdmass>50 & fj_{x}_sdmass<200 & passmetfilters & fj_{x}_nchadrons>0 & fj_{x}_nbhadrons==0 & fj_{x}_is_qualified'\n",
    "#     branches = uproot.open(file+':Events').keys(filter_name='fj_1_sf*')\n",
    "#     print(branches)\n",
    "#     branches = uproot.open(file+':Events').keys(filter_name='fj_1_ParticleNetMD*')\n",
    "    branches = []\n",
    "#     branches.extend(['puWeight','xsecWeight','genWeight','passHTTrig','passmetfilters','fj_1_pt','fj_1_sdmass','fj_1_is_qualified','fj_1_nbhadrons','fj_1_nchadrons','fj_1_dr_H','fj_1_dr_H_daus'])\n",
    "    branches.extend(['puWeight','xsecWeight','genWeight','passmetfilters','fj_1_pt','fj_1_sdmass','fj_1_is_qualified','fj_1_nbhadrons','fj_1_nchadrons','fj_1_dr_H','fj_1_dr_H_daus'])\n",
    "    branches.append(var)\n",
    "    df = uproot.open(file+':Events').arrays(branches, library='pd')\n",
    "    df.query(basesel, inplace=True)\n",
    "    wgtexpr = 'genWeight*xsecWeight*puWeight'\n",
    "    df['true_weight'] = df.eval(wgtexpr)\n",
    "    hist = ROOT.TH1D(\"\", \"\", xbins, xleft, xright)\n",
    "    for i in trange(0, len(df[var]), desc=f'fill {var} for {file}'):\n",
    "        hist.Fill(float(df[var].values[i]), float(df['true_weight'].values[i]))\n",
    "    hist.Scale(1./hist.Integral())\n",
    "    return hist\n",
    "\n",
    "def PlotDirectCut(file, var, bdt_name, eff, xbins, xleft, xright, cut=None, cut_variables=None):\n",
    "    x = 1\n",
    "    basesel = f'fj_{x}_pt>200 & fj_{x}_sdmass>50 & fj_{x}_sdmass<200 & passmetfilters & fj_{x}_is_qualified & fj_{x}_nbhadrons>0'\n",
    "    branches = []\n",
    "#     branches.extend(['puWeight','xsecWeight','genWeight','passHTTrig','passmetfilters','fj_1_pt','fj_1_sdmass','fj_1_is_qualified','fj_1_nbhadrons','fj_1_nchadrons','fj_1_dr_H','fj_1_dr_H_daus'])\n",
    "    branches.extend(['puWeight','xsecWeight','genWeight','passmetfilters','fj_1_pt','fj_1_sdmass','fj_1_is_qualified','fj_1_nbhadrons','fj_1_nchadrons'])\n",
    "    branches.append(var)\n",
    "    if cut_variables:\n",
    "        branches = set(branches + cut_variables)\n",
    "    df = uproot.open(file+':Events').arrays(branches, library='pd')\n",
    "    df.query(basesel, inplace=True)\n",
    "    if cut:\n",
    "        df.query(cut, inplace=True)\n",
    "        \n",
    "    wgtexpr = 'genWeight*xsecWeight*puWeight'\n",
    "    df['true_weight'] = df.eval(wgtexpr)\n",
    "    \n",
    "    hist = ROOT.TH1D(\"\", \"\", xbins, xleft, xright)\n",
    "    for i in trange(0, len(df[var]), desc=f'fill {var} for {file}'):\n",
    "        hist.Fill(float(df[var].values[i]), float(df['true_weight'].values[i]))\n",
    "    hist.Scale(1./hist.Integral())\n",
    "    return hist\n",
    "    \n",
    "def Get_Variance(h1, h2):\n",
    "    variance = 0\n",
    "    if h1.GetNbinsX() != h2.GetNbinsX():\n",
    "        print('NBins not consistent')\n",
    "        return -1\n",
    "    \n",
    "    for bin in range(1, h1.GetNbinsX()+1):\n",
    "        variance += math.sqrt(pow(h1.GetBinContent(bin),2) + pow(h2.GetBinContent(bin),2))\n",
    "    \n",
    "    return variance/h1.GetNbinsX()\n",
    "\n",
    "# file = f'/home/pku/sdeng/sfbdt/test_output/mc/zhbb_tree.root'\n",
    "file = f'/data/pku/home/licq/hcc/new/samples/trees_sf/202200922_ULNanoV9_higgs_ak8_higgs_2018/mc/gghbb_tree.root'\n",
    "hist_ref = PlotRef(file, var, bdt_name, eff, xbins, xleft, xright)\n",
    "\n",
    "file = f'/home/pku/sdeng/sfbdt/20221109/full_tau31_10_10_fj1_sfBDT/mc/qcd-mg_tree.root'\n",
    "hist_origin, wp = PlotPNet(file, var, 'fj_1_sfBDT', eff, xbins, xleft, xright)\n",
    "print(Get_Variance(hist_origin, hist_ref), wp)\n",
    "\n",
    "file = f'/home/pku/sdeng/sfbdt/20221109/full_tau31_10_10_fj1_sfBDT/mc/qcd-mg_tree.root'\n",
    "hist_recocut_tau21 = PlotDirectCut(file, var, bdt_name, eff, xbins, xleft, xright, cut='fj_1_tau21 < 0.2', cut_variables=['fj_1_tau21','fj_1_tau32'])\n",
    "\n",
    "file = f'/home/pku/sdeng/sfbdt/20221109/full_tau31_10_10_fj1_sfBDT/mc/qcd-mg_tree.root'\n",
    "hist_recocut_tau31 = PlotDirectCut(file, var, bdt_name, eff, xbins, xleft, xright, cut='fj_1_tau32*fj_1_tau21 < 0.2', cut_variables=['fj_1_tau21','fj_1_tau32'])\n",
    "\n",
    "for cut in cuts:\n",
    "#     file = f'/eos/user/s/sdeng/sfbdt/221027/'\n",
    "#     for eff in [0.5, 0.7, 0.9]:\n",
    "#         cuts[cut][f'hist_{str(eff)}'] = PlotPNet(file, var, bdt_name, eff, bins, xleft, xright)\n",
    "    cuts[cut][f'hist_{str(eff)}'], wp = PlotPNet(cuts[cut]['file'], var, bdt_name, eff, xbins, xleft, xright)\n",
    "    print(f'Variance for {cuts[cut][\"file\"]}: {Get_Variance(cuts[cut][f\"hist_{str(eff)}\"], hist_ref)}')\n",
    "    print(f'WP for {cuts[cut][\"file\"]}: {wp}\\n\\n')\n",
    "    \n",
    "# score calculation\n",
    "# f = open('record_tau21.txt', 'w+')\n",
    "# f.write(f'Variance for origin: {round(Get_Variance(hist_origin, hist_ref), 3)}\\n')\n",
    "# f.write(f'Working Point for eff={eff} for origin: {round(wp, 3)}\\n')\n",
    "\n",
    "# path = '/home/pku/sdeng/sfbdt/20221106/'\n",
    "# designs = []\n",
    "# total = 0\n",
    "# for sig in np.arange(0.05, 0.15, 0.05):\n",
    "#     for bkg in np.arange(sig, max(0.45, sig+0.05), 0.05):\n",
    "\n",
    "#         # print(sig, bkg)\n",
    "#         # print(math.modf(sig), math.modf(bkg))\n",
    "#         # print(int(100*math.modf(sig)[0]), int(100*math.modf(bkg)[0]))\n",
    "#         design = {}\n",
    "#         design['file_name'] = f'{path}/tau21_{round(100*math.modf(sig)[0])}_{round(100*math.modf(bkg)[0])}_fj1_sfBDT/mc/qcd-mg_tree.root'\n",
    "#         print(design)\n",
    "#         design[f'hist_{str(eff)}'], wp = PlotPNet(design['file_name'], var, bdt_name, eff, xbins, xleft, xright)\n",
    "#         print(f'Variance for {design[\"file_name\"]}: {Get_Variance(design[f\"hist_{str(eff)}\"], hist_ref)}')\n",
    "#         f.write(f'\\n Variance for {design[\"file_name\"]}: {round(Get_Variance(design[f\"hist_{str(eff)}\"], hist_ref), 3)}\\n')\n",
    "#         f.write(f'Working Point for eff={eff} for {design[\"file_name\"]}: {round(wp, 3)}\\n')\n",
    "#         designs.append(design)\n",
    "#         print()\n",
    "# f.close()"
   ]
  },
  {
   "cell_type": "code",
   "execution_count": 79,
   "id": "systematic-european",
   "metadata": {},
   "outputs": [
    {
     "name": "stdout",
     "output_type": "stream",
     "text": [
      "(13 TeV)\n"
     ]
    },
    {
     "name": "stderr",
     "output_type": "stream",
     "text": [
      "Info in <TCanvas::Print>: png file ./plots/20221116//bdt_cut_fj_1_ParticleNetMD_XbbVsQCD_0.9.png has been created\n"
     ]
    },
    {
     "data": {
      "image/png": "[encoded data removed]",
      "text/plain": [
       "<IPython.core.display.Image object>"
      ]
     },
     "metadata": {},
     "output_type": "display_data"
    }
   ],
   "source": [
    "# print(hists)\n",
    "hists = deepcopy(cuts)\n",
    "c1 = ROOT.TCanvas(\"\",\"\",1000,1000)\n",
    "c1.Draw()\n",
    "\n",
    "legend = ROOT.TLegend(0.30, 0.55, 0.55, 0.85)\n",
    "# legend.SetNColumns(3)\n",
    "legend.SetBorderSize(0)\n",
    "legend.SetFillColor(0)\n",
    "legend.SetTextSize(0.025)\n",
    "legend.SetLineWidth(1)\n",
    "legend.SetLineStyle(0)\n",
    "\n",
    "def SetStyle(hist, color, linestyle):\n",
    "    hist.SetMarkerStyle(0)\n",
    "    hist.SetLineColor(color)\n",
    "    hist.SetLineWidth(2)\n",
    "    hist.SetLineStyle(linestyle)\n",
    "    hist.SetXTitle(f'{var}')\n",
    "    hist.SetYTitle('A.U.')\n",
    "\n",
    "legend.AddEntry(hist_ref, f'Ref')\n",
    "SetStyle(hist_ref, 1, 1)\n",
    "hist_ref.Draw('HIST e')\n",
    "hist_ref.SetMaximum(0.8)\n",
    "hist_ref.GetXaxis().SetRangeUser(-0.1, 1.1)\n",
    "\n",
    "legend.AddEntry(hist_recocut_tau31, f'reco level cut: #tau_{{(31, reco)}}<0.20')\n",
    "SetStyle(hist_recocut_tau31, 30, 1)\n",
    "hist_recocut_tau31.Draw('HIST SAME e')\n",
    "\n",
    "legend.AddEntry(hist_recocut_tau21, f'reco level cut: #tau_{{(21, reco)}}<0.20')\n",
    "SetStyle(hist_recocut_tau21, 38, 1)\n",
    "hist_recocut_tau21.Draw('HIST SAME e')\n",
    "\n",
    "color = 2\n",
    "for hist in hists:\n",
    "#     for eff in [0.5, 0.7, 0.9]:\n",
    "    legend.AddEntry(hists[hist][f'hist_{str(eff)}'], f'{hists[hist][\"name\"]} eff={str(eff)}')\n",
    "    hists[hist][f'hist_{str(eff)}'].Scale(1./hists[hist][f'hist_{str(eff)}'].Integral())\n",
    "    SetStyle(hists[hist][f'hist_{str(eff)}'], color, 1)\n",
    "    hists[hist][f'hist_{str(eff)}'].Draw('HIST e SAME')\n",
    "    color += 1\n",
    "    while color in [3,5,6,10] : color += 1\n",
    "\n",
    "legend.AddEntry(hist_origin, f'origin parton level BDT eff={str(eff)}')\n",
    "SetStyle(hist_origin, 20, 1)\n",
    "hist_origin.Draw('HIST SAME e')\n",
    "\n",
    "legend.Draw(\"SAME\")\n",
    "\n",
    "ROOT.gPad.RedrawAxis()\n",
    "CMS_lumi(c1,0,0)\n",
    "ROOT.gStyle.SetPadRightMargin(0.05)\n",
    "# c1.SaveAs(f'/eos/user/s/sdeng/www/220519_jet_gp_test/bdt_cut_{var}.png')\n",
    "c1.SaveAs(f'./plots/20221116//bdt_cut_{var}_{eff}.png')\n",
    "# ROOT.gPad.SetLogy()"
   ]
  },
  {
   "cell_type": "code",
   "execution_count": 34,
   "id": "given-humor",
   "metadata": {},
   "outputs": [
    {
     "name": "stderr",
     "output_type": "stream",
     "text": [
      "fill fj_1_ParticleNetMD_XbbVsQCD for /home/pku/sdeng/sfbdt/20221116/full_tau31_10_10_fj1_sfBDT/fullAOD_QCD_bbb.root: 100%|██████████| 547/547 [00:00<00:00, 235287.08it/s]\n"
     ]
    }
   ],
   "source": [
    "var = 'fj_1_ParticleNetMD_XbbVsQCD'\n",
    "# var = 'fj_1_DeepAK8_ZHbbvsQCD' # all zero?\n",
    "# var = 'fj_1_DeepAK8MD_ZHbbvsQCD'\n",
    "# var = 'fj_1_DeepAK8MD_HbbvsQCD'\n",
    "# var = 'fj_1_btagDDBvLV2'\n",
    "# var = 'fj_1_btagHbb'\n",
    "bdt_name = 'fj1_sfBDT_add'\n",
    "xbins, xleft, xright = 25, 0, 1.0\n",
    "eff = 0.9\n",
    "\n",
    "def GetEvent(file, var, bdt_name, eff, xbins, xleft, xright):\n",
    "    x = 1\n",
    "    basesel = f'passHTTrig & fj_{x}_pt>200 & fj_{x}_sdmass>50 & fj_{x}_sdmass<200 & passmetfilters & fj_{x}_is_qualified & fj_{x}_nbhadrons>0 & fj_{x}_sj1_sv1_pt>0 & fj_{x}_sj2_sv1_pt>0'\n",
    "#     basesel = f'passHTTrig & fj_{x}_pt>200 & fj_{x}_sdmass>50 & fj_{x}_sdmass<200 & passmetfilters & fj_{x}_nchadrons>0 & fj_{x}_nbhadrons==0 & fj_{x}_is_qualified'\n",
    "    branches = []\n",
    "    branches.extend(['fj_1_sj1_sv1_pt','fj_1_sj2_sv1_pt','passHTTrig','passmetfilters','fj_1_pt','fj_1_sdmass','fj_1_is_qualified','fj_1_nbhadrons','fj_1_nchadrons'])\n",
    "    branches.append(var)\n",
    "    branches.append(bdt_name)\n",
    "    df = uproot.open(file+':Events').arrays(branches, library='pd')\n",
    "    df.query(basesel, inplace=True)\n",
    "#     wgtexpr = 'genWeight*xsecWeight*puWeight'\n",
    "#     df['true_weight'] = df.eval(wgtexpr)\n",
    "#     g_eff, wp = wp_eval(df, bdt_name, eff, xbins, xleft, xright)\n",
    "#     wp = weighted_quantile(df[bdt_name], [0.9], sample_weight=df['true_weight'])[0]\n",
    "    wp = weighted_quantile(df[bdt_name], [0.9])[0]\n",
    "#     print(wp)\n",
    "\n",
    "    bdt_cut = df.loc[:,bdt_name] > wp\n",
    "    df = df.loc[bdt_cut,:]\n",
    "    \n",
    "    hist = ROOT.TH1D(\"\", \"\", xbins, xleft, xright)\n",
    "    for i in trange(0, len(df[var]), desc=f'fill {var} for {file}'):\n",
    "        hist.Fill(float(df[var].values[i]))\n",
    "    hist.Scale(1./hist.Integral())\n",
    "    \n",
    "    var_cut = f'{var} < 0.10 & {var} > 0'\n",
    "    df.query(var_cut, inplace=True)\n",
    "    \n",
    "    return df, hist\n",
    "\n",
    "file = f'/home/pku/sdeng/sfbdt/20221116/full_tau31_10_10_fj1_sfBDT/fullAOD_QCD_bbb.root'\n",
    "df_test, hist = GetEvent(file, var, bdt_name, eff, xbins, xleft, xright)\n"
   ]
  },
  {
   "cell_type": "code",
   "execution_count": 37,
   "id": "laden-rochester",
   "metadata": {},
   "outputs": [
    {
     "data": {
      "text/html": [
       "<div>\n",
       "<style scoped>\n",
       "    .dataframe tbody tr th:only-of-type {\n",
       "        vertical-align: middle;\n",
       "    }\n",
       "\n",
       "    .dataframe tbody tr th {\n",
       "        vertical-align: top;\n",
       "    }\n",
       "\n",
       "    .dataframe thead th {\n",
       "        text-align: right;\n",
       "    }\n",
       "</style>\n",
       "<table border=\"1\" class=\"dataframe\">\n",
       "  <thead>\n",
       "    <tr style=\"text-align: right;\">\n",
       "      <th></th>\n",
       "      <th>fj_1_sj1_sv1_pt</th>\n",
       "      <th>fj_1_sj2_sv1_pt</th>\n",
       "      <th>passHTTrig</th>\n",
       "      <th>passmetfilters</th>\n",
       "      <th>fj_1_pt</th>\n",
       "      <th>fj_1_sdmass</th>\n",
       "      <th>fj_1_is_qualified</th>\n",
       "      <th>fj_1_nbhadrons</th>\n",
       "      <th>fj_1_nchadrons</th>\n",
       "      <th>fj_1_ParticleNetMD_XbbVsQCD</th>\n",
       "      <th>fj1_sfBDT_add</th>\n",
       "    </tr>\n",
       "  </thead>\n",
       "  <tbody>\n",
       "    <tr>\n",
       "      <th>9115</th>\n",
       "      <td>108.125000</td>\n",
       "      <td>7.742188</td>\n",
       "      <td>True</td>\n",
       "      <td>True</td>\n",
       "      <td>554.5</td>\n",
       "      <td>156.976547</td>\n",
       "      <td>True</td>\n",
       "      <td>1</td>\n",
       "      <td>2</td>\n",
       "      <td>0.020330</td>\n",
       "      <td>0.944213</td>\n",
       "    </tr>\n",
       "    <tr>\n",
       "      <th>13468</th>\n",
       "      <td>15.015625</td>\n",
       "      <td>33.218750</td>\n",
       "      <td>True</td>\n",
       "      <td>True</td>\n",
       "      <td>525.0</td>\n",
       "      <td>142.126617</td>\n",
       "      <td>True</td>\n",
       "      <td>1</td>\n",
       "      <td>1</td>\n",
       "      <td>0.079848</td>\n",
       "      <td>0.854348</td>\n",
       "    </tr>\n",
       "    <tr>\n",
       "      <th>16545</th>\n",
       "      <td>33.500000</td>\n",
       "      <td>5.453125</td>\n",
       "      <td>True</td>\n",
       "      <td>True</td>\n",
       "      <td>695.0</td>\n",
       "      <td>191.075165</td>\n",
       "      <td>True</td>\n",
       "      <td>1</td>\n",
       "      <td>1</td>\n",
       "      <td>0.059342</td>\n",
       "      <td>0.926296</td>\n",
       "    </tr>\n",
       "  </tbody>\n",
       "</table>\n",
       "</div>"
      ],
      "text/plain": [
       "       fj_1_sj1_sv1_pt  fj_1_sj2_sv1_pt  passHTTrig  passmetfilters  fj_1_pt  \\\n",
       "9115        108.125000         7.742188        True            True    554.5   \n",
       "13468        15.015625        33.218750        True            True    525.0   \n",
       "16545        33.500000         5.453125        True            True    695.0   \n",
       "\n",
       "       fj_1_sdmass  fj_1_is_qualified  fj_1_nbhadrons  fj_1_nchadrons  \\\n",
       "9115    156.976547               True               1               2   \n",
       "13468   142.126617               True               1               1   \n",
       "16545   191.075165               True               1               1   \n",
       "\n",
       "       fj_1_ParticleNetMD_XbbVsQCD  fj1_sfBDT_add  \n",
       "9115                      0.020330       0.944213  \n",
       "13468                     0.079848       0.854348  \n",
       "16545                     0.059342       0.926296  "
      ]
     },
     "execution_count": 37,
     "metadata": {},
     "output_type": "execute_result"
    }
   ],
   "source": [
    "df_test"
   ]
  },
  {
   "cell_type": "code",
   "execution_count": 35,
   "id": "written-adjustment",
   "metadata": {},
   "outputs": [
    {
     "data": {
      "text/plain": [
       "Int64Index([9115, 13468, 16545], dtype='int64')"
      ]
     },
     "execution_count": 35,
     "metadata": {},
     "output_type": "execute_result"
    }
   ],
   "source": [
    "df_test.index"
   ]
  },
  {
   "cell_type": "code",
   "execution_count": 33,
   "id": "alien-packet",
   "metadata": {},
   "outputs": [
    {
     "data": {
      "image/png": "[encoded data removed]",
      "text/plain": [
       "<IPython.core.display.Image object>"
      ]
     },
     "metadata": {},
     "output_type": "display_data"
    }
   ],
   "source": []
  },
  {
   "cell_type": "markdown",
   "id": "thermal-combining",
   "metadata": {},
   "source": [
    "## BDT Score"
   ]
  },
  {
   "cell_type": "code",
   "execution_count": 24,
   "id": "ecological-choir",
   "metadata": {},
   "outputs": [
    {
     "name": "stderr",
     "output_type": "stream",
     "text": [
      "fill fj_1_ParticleNetMD_XbbVsQCD for /home/pku/sdeng/sfbdt/20221106/full_tau31_10_10_fj1_sfBDT/mc/qcd-mg_tree.root: 100%|██████████| 947791/947791 [00:07<00:00, 125568.32it/s]\n",
      "fill fj_1_ParticleNetMD_XbbVsQCD for /home/pku/sdeng/sfbdt/20221106/full_tau31_10_10_fj1_sfBDT/mc/qcd-mg_tree.root: 100%|██████████| 947791/947791 [00:07<00:00, 133303.24it/s]\n",
      "fill fj_1_ParticleNetMD_XbbVsQCD for /home/pku/sdeng/sfbdt/20221106/optimization/full_tau31_10_10_fj1_sfBDT/mc/qcd-mg_tree.root: 100%|██████████| 947791/947791 [00:07<00:00, 133812.35it/s]\n"
     ]
    }
   ],
   "source": [
    "cuts = {\n",
    "    'cut1':{\n",
    "        'name': 'full samples',\n",
    "        'file': '/home/pku/sdeng/sfbdt/20221106/full_tau31_10_10_fj1_sfBDT/mc/qcd-mg_tree.root'\n",
    "    },\n",
    "    'cut2':{\n",
    "        'name': 'full samples with tau32&tau31 added',\n",
    "        'file': '/home/pku/sdeng/sfbdt/20221106/optimization/full_tau31_10_10_fj1_sfBDT/mc/qcd-mg_tree.root'\n",
    "    },\n",
    "\n",
    "}\n",
    "\n",
    "bdt_name = 'fj1_sfBDT_add'\n",
    "xbins, xleft, xright = 22, 0, 1.1\n",
    "\n",
    "def PlotBDT(file, bdt_name, xbins, xleft, xright):\n",
    "    x = 1\n",
    "    basesel = f'passHTTrig & fj_{x}_pt>200 & fj_{x}_sdmass>50 & fj_{x}_sdmass<200 & passmetfilters & fj_{x}_is_qualified & fj_{x}_nbhadrons>0 & fj_{x}_sj1_sv1_pt>0 & fj_{x}_sj2_sv1_pt>0'\n",
    "#     basesel = f'passHTTrig & fj_{x}_pt>200 & fj_{x}_sdmass>50 & fj_{x}_sdmass<200 & passmetfilters & fj_{x}_nchadrons>0 & fj_{x}_nbhadrons==0 & fj_{x}_is_qualified'\n",
    "#     branches = uproot.open(file+':Events').keys(filter_name='fj_1_sf*')\n",
    "#     print(branches)\n",
    "#     branches = uproot.open(file+':Events').keys(filter_name='fj_1_ParticleNetMD*')\n",
    "    branches = []\n",
    "    branches.extend(['fj_1_sj1_sv1_pt','fj_1_sj2_sv1_pt','puWeight','xsecWeight','genWeight','passHTTrig','passmetfilters','fj_1_pt','fj_1_sdmass','fj_1_is_qualified','fj_1_nbhadrons','fj_1_nchadrons'])\n",
    "    branches.append(bdt_name)\n",
    "    df = uproot.open(file+':Events').arrays(branches, library='pd')\n",
    "    df.query(basesel, inplace=True)\n",
    "    wgtexpr = 'genWeight*xsecWeight*puWeight'\n",
    "    df['true_weight'] = df.eval(wgtexpr)\n",
    "    hist = ROOT.TH1D(\"\", \"\", xbins, xleft, xright)\n",
    "    for i in trange(0, len(df[bdt_name]), desc=f'fill {var} for {file}'):\n",
    "        hist.Fill(float(df[bdt_name].values[i]), float(df['true_weight'].values[i]))\n",
    "    hist.Scale(1./hist.Integral())\n",
    "    return hist\n",
    "\n",
    "\n",
    "file = f'/home/pku/sdeng/sfbdt/20221106/full_tau31_10_10_fj1_sfBDT/mc/qcd-mg_tree.root'\n",
    "hist_origin = PlotBDT(file, 'fj_1_sfBDT', xbins, xleft, xright)\n",
    "\n",
    "\n",
    "for cut in cuts:\n",
    "#     file = f'/eos/user/s/sdeng/sfbdt/221027/'\n",
    "#     for eff in [0.5, 0.7, 0.9]:\n",
    "#         cuts[cut][f'hist_{str(eff)}'] = PlotPNet(file, var, bdt_name, eff, bins, xleft, xright)\n",
    "    cuts[cut][f'hist_{str(eff)}'] = PlotBDT(cuts[cut]['file'], bdt_name, xbins, xleft, xright)"
   ]
  },
  {
   "cell_type": "code",
   "execution_count": 28,
   "id": "basic-census",
   "metadata": {},
   "outputs": [
    {
     "name": "stdout",
     "output_type": "stream",
     "text": [
      "(13 TeV)\n"
     ]
    },
    {
     "data": {
      "image/png": "[encoded data removed]",
      "text/plain": [
       "<IPython.core.display.Image object>"
      ]
     },
     "metadata": {},
     "output_type": "display_data"
    }
   ],
   "source": [
    "# print(hists)\n",
    "hists = deepcopy(cuts)\n",
    "c1 = ROOT.TCanvas(\"\",\"\",1000,1000)\n",
    "c1.Draw()\n",
    "\n",
    "legend = ROOT.TLegend(0.30, 0.55, 0.55, 0.85)\n",
    "# legend.SetNColumns(3)\n",
    "legend.SetBorderSize(0)\n",
    "legend.SetFillColor(0)\n",
    "legend.SetTextSize(0.025)\n",
    "legend.SetLineWidth(1)\n",
    "legend.SetLineStyle(0)\n",
    "\n",
    "def SetStyle(hist, color, linestyle):\n",
    "    hist.SetMarkerStyle(0)\n",
    "    hist.SetLineColor(color)\n",
    "    hist.SetLineWidth(2)\n",
    "    hist.SetLineStyle(linestyle)\n",
    "    hist.SetXTitle(f'{bdt_name}')\n",
    "    hist.SetYTitle('A.U.')\n",
    "\n",
    "legend.AddEntry(hist_origin, f'origin')\n",
    "SetStyle(hist_origin, 20, 1)\n",
    "hist_origin.Draw('HIST e')\n",
    "hist_origin.SetMaximum(0.5)\n",
    "\n",
    "color = 2\n",
    "for hist in hists:\n",
    "#     for eff in [0.5, 0.7, 0.9]:\n",
    "    legend.AddEntry(hists[hist][f'hist_{str(eff)}'], f'{hists[hist][\"name\"]} eff={str(eff)}')\n",
    "    hists[hist][f'hist_{str(eff)}'].Scale(1./hists[hist][f'hist_{str(eff)}'].Integral())\n",
    "    SetStyle(hists[hist][f'hist_{str(eff)}'], color, 1)\n",
    "    hists[hist][f'hist_{str(eff)}'].Draw('HIST e SAME')\n",
    "    color += 1\n",
    "    if color in [3,10] : color += 1\n",
    "\n",
    "legend.Draw(\"SAME\")\n",
    "\n",
    "ROOT.gPad.RedrawAxis()\n",
    "CMS_lumi(c1,0,0)\n",
    "ROOT.gStyle.SetPadRightMargin(0.05)\n",
    "# c1.SaveAs(f'/eos/user/s/sdeng/www/220519_jet_gp_test/bdt_cut_{var}.png')\n",
    "# ROOT.gPad.SetLogy()"
   ]
  }
 ],
 "metadata": {
  "kernelspec": {
   "display_name": "Python 3",
   "language": "python",
   "name": "python3"
  },
  "language_info": {
   "codemirror_mode": {
    "name": "ipython",
    "version": 3
   },
   "file_extension": ".py",
   "mimetype": "text/x-python",
   "name": "python",
   "nbconvert_exporter": "python",
   "pygments_lexer": "ipython3",
   "version": "3.9.0"
  }
 },
 "nbformat": 4,
 "nbformat_minor": 5
}
